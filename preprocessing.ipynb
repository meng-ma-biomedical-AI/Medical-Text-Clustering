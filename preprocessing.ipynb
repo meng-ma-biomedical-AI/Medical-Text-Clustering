{
 "cells": [
  {
   "cell_type": "code",
   "execution_count": 20,
   "metadata": {},
   "outputs": [],
   "source": [
    "import pandas as pd\n",
    "import numpy as np\n",
    "import re\n",
    "import string\n",
    "import jieba\n",
    "import collections"
   ]
  },
  {
   "cell_type": "code",
   "execution_count": 12,
   "metadata": {},
   "outputs": [
    {
     "data": {
      "text/html": [
       "<div>\n",
       "<style scoped>\n",
       "    .dataframe tbody tr th:only-of-type {\n",
       "        vertical-align: middle;\n",
       "    }\n",
       "\n",
       "    .dataframe tbody tr th {\n",
       "        vertical-align: top;\n",
       "    }\n",
       "\n",
       "    .dataframe thead th {\n",
       "        text-align: right;\n",
       "    }\n",
       "</style>\n",
       "<table border=\"1\" class=\"dataframe\">\n",
       "  <thead>\n",
       "    <tr style=\"text-align: right;\">\n",
       "      <th></th>\n",
       "      <th>Case Number</th>\n",
       "      <th>Description</th>\n",
       "    </tr>\n",
       "  </thead>\n",
       "  <tbody>\n",
       "    <tr>\n",
       "      <th>0</th>\n",
       "      <td>1465675.0</td>\n",
       "      <td>[Wechat] 求助有没有第八版的乳腺癌分期图？或者是任何最新的能做成挂图的乳腺相关图及资料</td>\n",
       "    </tr>\n",
       "    <tr>\n",
       "      <th>1</th>\n",
       "      <td>1465165.0</td>\n",
       "      <td>[Wechat] 想要ABC4和BCY3的原文</td>\n",
       "    </tr>\n",
       "    <tr>\n",
       "      <th>2</th>\n",
       "      <td>1464772.0</td>\n",
       "      <td>[Wechat] 您好，求乳腺癌最新的维持治疗的专家共识的片子，谢谢！</td>\n",
       "    </tr>\n",
       "    <tr>\n",
       "      <th>3</th>\n",
       "      <td>1463123.0</td>\n",
       "      <td>[Wechat] 客户想了解关于her2阳性型乳腺癌脑转移的治疗策略，包括相关的研究文献与具...</td>\n",
       "    </tr>\n",
       "    <tr>\n",
       "      <th>4</th>\n",
       "      <td>1461207.0</td>\n",
       "      <td>请帮忙提供Create-X研究英文、中文的全文内容。</td>\n",
       "    </tr>\n",
       "  </tbody>\n",
       "</table>\n",
       "</div>"
      ],
      "text/plain": [
       "   Case Number                                        Description\n",
       "0    1465675.0    [Wechat] 求助有没有第八版的乳腺癌分期图？或者是任何最新的能做成挂图的乳腺相关图及资料\n",
       "1    1465165.0                            [Wechat] 想要ABC4和BCY3的原文\n",
       "2    1464772.0                [Wechat] 您好，求乳腺癌最新的维持治疗的专家共识的片子，谢谢！\n",
       "3    1463123.0  [Wechat] 客户想了解关于her2阳性型乳腺癌脑转移的治疗策略，包括相关的研究文献与具...\n",
       "4    1461207.0                         请帮忙提供Create-X研究英文、中文的全文内容。"
      ]
     },
     "execution_count": 12,
     "metadata": {},
     "output_type": "execute_result"
    }
   ],
   "source": [
    "No_product_question = pd.read_excel('./data/No_product.xlsx')\n",
    "No_product_question.head()"
   ]
  },
  {
   "cell_type": "code",
   "execution_count": 13,
   "metadata": {},
   "outputs": [
    {
     "name": "stdout",
     "output_type": "stream",
     "text": [
      "Case Number    510\n",
      "Description    151\n",
      "dtype: int64\n",
      "Case Number    359\n",
      "Description      0\n",
      "dtype: int64\n"
     ]
    }
   ],
   "source": [
    "print(No_product_question.isna().sum())\n",
    "No_product_question.dropna(axis=0, inplace=True, subset=['Description'])\n",
    "print(No_product_question.isna().sum())"
   ]
  },
  {
   "cell_type": "code",
   "execution_count": 41,
   "metadata": {},
   "outputs": [
    {
     "name": "stdout",
     "output_type": "stream",
     "text": [
      "563\n",
      "563\n",
      "文献查询 Dear：麻烦帮忙查一下以下的文献1，J Natl Cancer Inst. 2018 Jun 1;110(6):560-567. doi: 10.1093/jnci/djy018 2，JAMA Oncol. 2018 Sep 1;4(9):1207-1213. doi: 10.1001/jamaoncol.2018.1436 3，Ann Surg. 2017 Jul 24. doi: 10.1097/SLA.0000000000002439 4，Ann Surg. 2018 May;267(5):946-951. doi: 10.1097/SLA.0000000000002313 5，JAMA Surg. 2017 Jul 1;152(7):665-670. doi: 10.1001/jamasurg.2017.0562非常感谢\n"
     ]
    }
   ],
   "source": [
    "case_number_list = []\n",
    "description_list = []\n",
    "for idx, row in No_product_question.iterrows():\n",
    "    if str(row['Case Number']) != 'nan':\n",
    "        case_number_list.append(row['Case Number'])\n",
    "        description_list.append(str(row['Description']))\n",
    "    else:\n",
    "        description_list[-1] = description_list[-1] + \" \" + str(row['Description'])\n",
    "print(len(case_number_list))\n",
    "print(len(description_list))\n",
    "print(description_list[-1])"
   ]
  },
  {
   "cell_type": "code",
   "execution_count": null,
   "metadata": {},
   "outputs": [],
   "source": [
    "row_list = list(zip(case_number_list, description_list))\n",
    "print(len(row_list))\n",
    "row_list"
   ]
  },
  {
   "cell_type": "code",
   "execution_count": null,
   "metadata": {},
   "outputs": [],
   "source": [
    "No_product_question_processed = pd.DataFrame(row_list, columns=['Case Number', 'Description'])\n",
    "No_product_question_processed"
   ]
  },
  {
   "cell_type": "code",
   "execution_count": 46,
   "metadata": {},
   "outputs": [],
   "source": [
    "No_product_question_processed.to_excel(\"./data/No_product_merged.xlsx\")"
   ]
  },
  {
   "cell_type": "code",
   "execution_count": null,
   "metadata": {},
   "outputs": [],
   "source": []
  },
  {
   "cell_type": "code",
   "execution_count": null,
   "metadata": {},
   "outputs": [],
   "source": []
  },
  {
   "cell_type": "code",
   "execution_count": 2,
   "metadata": {},
   "outputs": [
    {
     "name": "stdout",
     "output_type": "stream",
     "text": [
      "all_question:  1407\n",
      "all_question:  1093\n"
     ]
    }
   ],
   "source": [
    "# all_question = pd.read_csv('./data/description.csv')\n",
    "Herceptin_question = pd.read_excel('./data/Herceptin.xlsx')\n",
    "# all_question = pd.read_excel('./data/Herceptin_funding_filtered.xlsx')\n",
    "# all_question = pd.read_excel('./data/Herceptin_patient_filtered.xlsx')\n",
    "Kadcyla_question = pd.read_excel('./data/Kadcyla.xlsx')\n",
    "Perjeta_1_question = pd.read_excel('./data/Perjeta_1.xlsx')\n",
    "Perjeta_2_question = pd.read_excel('./data/Perjeta_2.xlsx')\n",
    "Tecentriq_question = pd.read_excel('./data/Tecentriq.xlsx')\n",
    "Xeloda_question = pd.read_excel('./data/Xeloda.xlsx')\n",
    "\n",
    "all_question = pd.concat([Herceptin_question, Kadcyla_question, Perjeta_1_question, Perjeta_2_question, Tecentriq_question, Xeloda_question])\n",
    "print('all_question: ', len(all_question))\n",
    "all_question.head(5)\n",
    "\n",
    "all_question.dropna(axis=0, inplace=True, subset=['Description'])\n",
    "all_question.isna().sum()\n",
    "\n",
    "print('all_question: ', len(all_question))"
   ]
  },
  {
   "cell_type": "code",
   "execution_count": null,
   "metadata": {},
   "outputs": [],
   "source": [
    "f_chinese_word_dict = open('all_qu.txt', 'w')\n",
    "write_list = [word+\"\\n\" for word in chinese_word_dict]\n",
    "f_chinese_word_dict.writelines(write_list)\n",
    "f_chinese_word_dict.close()"
   ]
  },
  {
   "cell_type": "code",
   "execution_count": 49,
   "metadata": {},
   "outputs": [],
   "source": [
    "all_data = pd.read_excel(\"./data/Herceptin_filtered.xlsx\")"
   ]
  },
  {
   "cell_type": "code",
   "execution_count": 55,
   "metadata": {},
   "outputs": [
    {
     "data": {
      "text/html": [
       "<div>\n",
       "<style scoped>\n",
       "    .dataframe tbody tr th:only-of-type {\n",
       "        vertical-align: middle;\n",
       "    }\n",
       "\n",
       "    .dataframe tbody tr th {\n",
       "        vertical-align: top;\n",
       "    }\n",
       "\n",
       "    .dataframe thead th {\n",
       "        text-align: right;\n",
       "    }\n",
       "</style>\n",
       "<table border=\"1\" class=\"dataframe\">\n",
       "  <thead>\n",
       "    <tr style=\"text-align: right;\">\n",
       "      <th></th>\n",
       "      <th>Case Number</th>\n",
       "      <th>Contact Type</th>\n",
       "      <th>Contact Channel</th>\n",
       "      <th>Response Channel</th>\n",
       "      <th>Enquiry Classification</th>\n",
       "      <th>Subject</th>\n",
       "      <th>Description</th>\n",
       "      <th>Product</th>\n",
       "      <th>Response</th>\n",
       "      <th>Unnamed: 9</th>\n",
       "    </tr>\n",
       "  </thead>\n",
       "  <tbody>\n",
       "    <tr>\n",
       "      <th>0</th>\n",
       "      <td>1420656</td>\n",
       "      <td>Nurse</td>\n",
       "      <td>Affiliate MI mailbox</td>\n",
       "      <td>Phone</td>\n",
       "      <td>Stability/Storage/Reconstitution</td>\n",
       "      <td>beyond temperature</td>\n",
       "      <td>赫赛汀 （批号1： N3825B03B3049, 批号2： N3826B02B3050） 配...</td>\n",
       "      <td>Herceptin</td>\n",
       "      <td>根据说明书信息，赫赛汀需要存放于2-8度的温度中，超温保存对于药品活性会产生影响，不建议使用。</td>\n",
       "      <td>NaN</td>\n",
       "    </tr>\n",
       "    <tr>\n",
       "      <th>1</th>\n",
       "      <td>1423956</td>\n",
       "      <td>Internal</td>\n",
       "      <td>Phone</td>\n",
       "      <td>Email</td>\n",
       "      <td>Stability/Storage/Reconstitution</td>\n",
       "      <td>beyond temperature-herceptin</td>\n",
       "      <td>赫赛汀粉末形状如何？患者保存的赫赛汀的稀释液出现结冰情况，是否能否使用（无产品批号信息）</td>\n",
       "      <td>Herceptin</td>\n",
       "      <td>[#Responded via email: 罗氏医学信息: [01423956]#]</td>\n",
       "      <td>NaN</td>\n",
       "    </tr>\n",
       "    <tr>\n",
       "      <th>3</th>\n",
       "      <td>1434184</td>\n",
       "      <td>Physician</td>\n",
       "      <td>Internal Webform</td>\n",
       "      <td>Email</td>\n",
       "      <td>Safety</td>\n",
       "      <td>AE-Herceptin&amp;Thromboembolism</td>\n",
       "      <td>[Wechat] 请帮忙查一些赫赛汀与血栓栓塞方面的数据和文献（确认无AE）</td>\n",
       "      <td>Herceptin</td>\n",
       "      <td>[#Responded via email: 罗氏医学信息: [01434184]#]</td>\n",
       "      <td>NaN</td>\n",
       "    </tr>\n",
       "    <tr>\n",
       "      <th>4</th>\n",
       "      <td>1436011</td>\n",
       "      <td>Patient</td>\n",
       "      <td>Phone</td>\n",
       "      <td>Phone</td>\n",
       "      <td>Product Quality</td>\n",
       "      <td>Quality-herceptin</td>\n",
       "      <td>拿到的赫赛汀呈现块状是否正常</td>\n",
       "      <td>Herceptin</td>\n",
       "      <td>由于赫赛汀是抽真空的工艺，抽掉空气后就是块状的，但由于运输过程中撞击、摇晃等因素可能会把块状...</td>\n",
       "      <td>NaN</td>\n",
       "    </tr>\n",
       "    <tr>\n",
       "      <th>5</th>\n",
       "      <td>1438071</td>\n",
       "      <td>Internal</td>\n",
       "      <td>Phone</td>\n",
       "      <td>Email;Phone</td>\n",
       "      <td>Product Quality</td>\n",
       "      <td>quality-herceptin</td>\n",
       "      <td>常规配置和保存的赫赛汀复溶后的溶液保存在2-8度的情况下，现出现浑浊情况，能否使用</td>\n",
       "      <td>Herceptin</td>\n",
       "      <td>根据Herceptin说明书信息，溶解后为无色至淡黄色，澄清至微乳光溶液。该case记录PC上报</td>\n",
       "      <td>NaN</td>\n",
       "    </tr>\n",
       "    <tr>\n",
       "      <th>6</th>\n",
       "      <td>1439604</td>\n",
       "      <td>Internal</td>\n",
       "      <td>In person</td>\n",
       "      <td>Email</td>\n",
       "      <td>Publication/Educational Material Request</td>\n",
       "      <td>PI-herceptin</td>\n",
       "      <td>赫赛汀最新说明书</td>\n",
       "      <td>Herceptin</td>\n",
       "      <td>[#Responded via email: 罗氏医学信息: [01439604]#]</td>\n",
       "      <td>NaN</td>\n",
       "    </tr>\n",
       "    <tr>\n",
       "      <th>7</th>\n",
       "      <td>1442983</td>\n",
       "      <td>Patient</td>\n",
       "      <td>Phone</td>\n",
       "      <td>Phone</td>\n",
       "      <td>Logistics/Funding/Regulatory</td>\n",
       "      <td>supply-herceptin</td>\n",
       "      <td>赫赛汀哪里可以购买</td>\n",
       "      <td>Herceptin</td>\n",
       "      <td>提供无锡及常州药房信息，建议事先电话联系已确认库存情况</td>\n",
       "      <td>NaN</td>\n",
       "    </tr>\n",
       "    <tr>\n",
       "      <th>8</th>\n",
       "      <td>1443005</td>\n",
       "      <td>Patient</td>\n",
       "      <td>Phone</td>\n",
       "      <td>Phone</td>\n",
       "      <td>Safety</td>\n",
       "      <td>AE-overdue&amp;herceptin</td>\n",
       "      <td>有无过期赫赛汀输注到患者体内的疗效或安全性数据（患者怀疑医院将过期药品输注到体内，无产品批号信息）</td>\n",
       "      <td>Herceptin</td>\n",
       "      <td>赫赛汀需在有效期内使用，热线无过期产品用于人体的临床试验数据，建议确认是否输注过期产品，记录AE</td>\n",
       "      <td>NaN</td>\n",
       "    </tr>\n",
       "    <tr>\n",
       "      <th>9</th>\n",
       "      <td>1444557</td>\n",
       "      <td>Nurse</td>\n",
       "      <td>Phone</td>\n",
       "      <td>Phone</td>\n",
       "      <td>Stability/Storage/Reconstitution</td>\n",
       "      <td>beyond temperature-Herceptin</td>\n",
       "      <td>赫赛汀注射前发现稀释液有结冰情况，能否使用，产品批号（SH0128，N3834/B3051）</td>\n",
       "      <td>Herceptin</td>\n",
       "      <td>根据说明书信息，赫赛汀需要在2-8度保存和运输，超温保存会影响药品活性，从而影响疗效和安全性...</td>\n",
       "      <td>NaN</td>\n",
       "    </tr>\n",
       "    <tr>\n",
       "      <th>10</th>\n",
       "      <td>1444573</td>\n",
       "      <td>Patient</td>\n",
       "      <td>Phone</td>\n",
       "      <td>Phone</td>\n",
       "      <td>Stability/Storage/Reconstitution</td>\n",
       "      <td>beyond temperature-herceptin</td>\n",
       "      <td>赫赛汀用前发现稀释液有冰晶，能否使用</td>\n",
       "      <td>Herceptin</td>\n",
       "      <td>根据说明书信息，赫赛汀需在2-8度保存与运输，超温保存将影响产品活性，热线不建议使用。记录AE</td>\n",
       "      <td>NaN</td>\n",
       "    </tr>\n",
       "  </tbody>\n",
       "</table>\n",
       "</div>"
      ],
      "text/plain": [
       "   Case Number Contact Type       Contact Channel Response Channel  \\\n",
       "0      1420656        Nurse  Affiliate MI mailbox            Phone   \n",
       "1      1423956     Internal                 Phone            Email   \n",
       "3      1434184    Physician      Internal Webform            Email   \n",
       "4      1436011      Patient                 Phone            Phone   \n",
       "5      1438071     Internal                 Phone      Email;Phone   \n",
       "6      1439604     Internal             In person            Email   \n",
       "7      1442983      Patient                 Phone            Phone   \n",
       "8      1443005      Patient                 Phone            Phone   \n",
       "9      1444557        Nurse                 Phone            Phone   \n",
       "10     1444573      Patient                 Phone            Phone   \n",
       "\n",
       "                      Enquiry Classification                       Subject  \\\n",
       "0           Stability/Storage/Reconstitution            beyond temperature   \n",
       "1           Stability/Storage/Reconstitution  beyond temperature-herceptin   \n",
       "3                                     Safety  AE-Herceptin&Thromboembolism   \n",
       "4                            Product Quality             Quality-herceptin   \n",
       "5                            Product Quality             quality-herceptin   \n",
       "6   Publication/Educational Material Request                  PI-herceptin   \n",
       "7               Logistics/Funding/Regulatory              supply-herceptin   \n",
       "8                                     Safety          AE-overdue&herceptin   \n",
       "9           Stability/Storage/Reconstitution  beyond temperature-Herceptin   \n",
       "10          Stability/Storage/Reconstitution  beyond temperature-herceptin   \n",
       "\n",
       "                                          Description    Product  \\\n",
       "0   赫赛汀 （批号1： N3825B03B3049, 批号2： N3826B02B3050） 配...  Herceptin   \n",
       "1        赫赛汀粉末形状如何？患者保存的赫赛汀的稀释液出现结冰情况，是否能否使用（无产品批号信息）  Herceptin   \n",
       "3              [Wechat] 请帮忙查一些赫赛汀与血栓栓塞方面的数据和文献（确认无AE）  Herceptin   \n",
       "4                                      拿到的赫赛汀呈现块状是否正常  Herceptin   \n",
       "5           常规配置和保存的赫赛汀复溶后的溶液保存在2-8度的情况下，现出现浑浊情况，能否使用  Herceptin   \n",
       "6                                            赫赛汀最新说明书  Herceptin   \n",
       "7                                           赫赛汀哪里可以购买  Herceptin   \n",
       "8   有无过期赫赛汀输注到患者体内的疗效或安全性数据（患者怀疑医院将过期药品输注到体内，无产品批号信息）  Herceptin   \n",
       "9      赫赛汀注射前发现稀释液有结冰情况，能否使用，产品批号（SH0128，N3834/B3051）  Herceptin   \n",
       "10                                 赫赛汀用前发现稀释液有冰晶，能否使用  Herceptin   \n",
       "\n",
       "                                             Response Unnamed: 9  \n",
       "0     根据说明书信息，赫赛汀需要存放于2-8度的温度中，超温保存对于药品活性会产生影响，不建议使用。        NaN  \n",
       "1         [#Responded via email: 罗氏医学信息: [01423956]#]        NaN  \n",
       "3         [#Responded via email: 罗氏医学信息: [01434184]#]        NaN  \n",
       "4   由于赫赛汀是抽真空的工艺，抽掉空气后就是块状的，但由于运输过程中撞击、摇晃等因素可能会把块状...        NaN  \n",
       "5    根据Herceptin说明书信息，溶解后为无色至淡黄色，澄清至微乳光溶液。该case记录PC上报        NaN  \n",
       "6         [#Responded via email: 罗氏医学信息: [01439604]#]        NaN  \n",
       "7                         提供无锡及常州药房信息，建议事先电话联系已确认库存情况        NaN  \n",
       "8    赫赛汀需在有效期内使用，热线无过期产品用于人体的临床试验数据，建议确认是否输注过期产品，记录AE        NaN  \n",
       "9   根据说明书信息，赫赛汀需要在2-8度保存和运输，超温保存会影响药品活性，从而影响疗效和安全性...        NaN  \n",
       "10    根据说明书信息，赫赛汀需在2-8度保存与运输，超温保存将影响产品活性，热线不建议使用。记录AE        NaN  "
      ]
     },
     "execution_count": 55,
     "metadata": {},
     "output_type": "execute_result"
    }
   ],
   "source": [
    "all_data.head(10)"
   ]
  },
  {
   "cell_type": "code",
   "execution_count": 51,
   "metadata": {},
   "outputs": [
    {
     "data": {
      "text/plain": [
       "Case Number                400\n",
       "Contact Type               402\n",
       "Contact Channel            402\n",
       "Response Channel           402\n",
       "Enquiry Classification     402\n",
       "Subject                    402\n",
       "Description                332\n",
       "Product                    402\n",
       "Response                    95\n",
       "Unnamed: 9                1157\n",
       "dtype: int64"
      ]
     },
     "execution_count": 51,
     "metadata": {},
     "output_type": "execute_result"
    }
   ],
   "source": [
    "all_data.isna().sum()"
   ]
  },
  {
   "cell_type": "code",
   "execution_count": 52,
   "metadata": {},
   "outputs": [],
   "source": [
    "all_data.dropna(axis=0, inplace=True, subset=['Case Number', 'Contact Type'])"
   ]
  },
  {
   "cell_type": "code",
   "execution_count": 53,
   "metadata": {},
   "outputs": [
    {
     "data": {
      "text/plain": [
       "Case Number                 0\n",
       "Contact Type                0\n",
       "Contact Channel             0\n",
       "Response Channel            0\n",
       "Enquiry Classification      0\n",
       "Subject                     0\n",
       "Description                 0\n",
       "Product                     0\n",
       "Response                    0\n",
       "Unnamed: 9                756\n",
       "dtype: int64"
      ]
     },
     "execution_count": 53,
     "metadata": {},
     "output_type": "execute_result"
    }
   ],
   "source": [
    "all_data.isna().sum()"
   ]
  },
  {
   "cell_type": "code",
   "execution_count": 54,
   "metadata": {},
   "outputs": [
    {
     "data": {
      "text/plain": [
       "756"
      ]
     },
     "execution_count": 54,
     "metadata": {},
     "output_type": "execute_result"
    }
   ],
   "source": [
    "len(all_data)"
   ]
  },
  {
   "cell_type": "code",
   "execution_count": 56,
   "metadata": {},
   "outputs": [],
   "source": [
    "all_data.drop(all_data[all_data['Contact Type'] == 'Patient'].index, inplace=True)"
   ]
  },
  {
   "cell_type": "code",
   "execution_count": 57,
   "metadata": {},
   "outputs": [
    {
     "data": {
      "text/plain": [
       "201"
      ]
     },
     "execution_count": 57,
     "metadata": {},
     "output_type": "execute_result"
    }
   ],
   "source": [
    "len(all_data)"
   ]
  },
  {
   "cell_type": "code",
   "execution_count": 58,
   "metadata": {},
   "outputs": [],
   "source": [
    "# all_data.to_excel('./data/Herceptin_patient_filtered.xlsx')"
   ]
  },
  {
   "cell_type": "code",
   "execution_count": 2,
   "metadata": {},
   "outputs": [],
   "source": [
    "mesh_data = pd.read_csv('./mesh_ref_copy1.csv')"
   ]
  },
  {
   "cell_type": "code",
   "execution_count": 7,
   "metadata": {},
   "outputs": [
    {
     "name": "stdout",
     "output_type": "stream",
     "text": [
      "911261\n"
     ]
    },
    {
     "data": {
      "text/html": [
       "<div>\n",
       "<style scoped>\n",
       "    .dataframe tbody tr th:only-of-type {\n",
       "        vertical-align: middle;\n",
       "    }\n",
       "\n",
       "    .dataframe tbody tr th {\n",
       "        vertical-align: top;\n",
       "    }\n",
       "\n",
       "    .dataframe thead th {\n",
       "        text-align: right;\n",
       "    }\n",
       "</style>\n",
       "<table border=\"1\" class=\"dataframe\">\n",
       "  <thead>\n",
       "    <tr style=\"text-align: right;\">\n",
       "      <th></th>\n",
       "      <th>1000065</th>\n",
       "      <th>anatomy category</th>\n",
       "      <th>A</th>\n",
       "    </tr>\n",
       "  </thead>\n",
       "  <tbody>\n",
       "    <tr>\n",
       "      <th>0</th>\n",
       "      <td>1000066</td>\n",
       "      <td>organisms category</td>\n",
       "      <td>B</td>\n",
       "    </tr>\n",
       "    <tr>\n",
       "      <th>1</th>\n",
       "      <td>1000067</td>\n",
       "      <td>diseases category</td>\n",
       "      <td>C</td>\n",
       "    </tr>\n",
       "    <tr>\n",
       "      <th>2</th>\n",
       "      <td>1000068</td>\n",
       "      <td>chemicals and drugs category</td>\n",
       "      <td>D</td>\n",
       "    </tr>\n",
       "    <tr>\n",
       "      <th>3</th>\n",
       "      <td>1000069</td>\n",
       "      <td>analytical, diagnostic and therapeutic techniq...</td>\n",
       "      <td>E</td>\n",
       "    </tr>\n",
       "    <tr>\n",
       "      <th>4</th>\n",
       "      <td>1000070</td>\n",
       "      <td>psychiatry and psychology category</td>\n",
       "      <td>F</td>\n",
       "    </tr>\n",
       "  </tbody>\n",
       "</table>\n",
       "</div>"
      ],
      "text/plain": [
       "   1000065                                   anatomy category  A\n",
       "0  1000066                                 organisms category  B\n",
       "1  1000067                                  diseases category  C\n",
       "2  1000068                       chemicals and drugs category  D\n",
       "3  1000069  analytical, diagnostic and therapeutic techniq...  E\n",
       "4  1000070                 psychiatry and psychology category  F"
      ]
     },
     "execution_count": 7,
     "metadata": {},
     "output_type": "execute_result"
    }
   ],
   "source": [
    "print(len(mesh_data))\n",
    "mesh_data.head()"
   ]
  },
  {
   "cell_type": "code",
   "execution_count": 10,
   "metadata": {},
   "outputs": [],
   "source": [
    "def is_zh(string):\n",
    "    return all('\\u4e00' <= char <= '\\u9fff' for char in string)"
   ]
  },
  {
   "cell_type": "code",
   "execution_count": 16,
   "metadata": {},
   "outputs": [],
   "source": [
    "chinese_word_dict = []\n",
    "for idx,row in mesh_data.iterrows():\n",
    "    if is_zh(row['anatomy category']):\n",
    "        chinese_word_dict.append(row['anatomy category'])"
   ]
  },
  {
   "cell_type": "code",
   "execution_count": 22,
   "metadata": {},
   "outputs": [
    {
     "name": "stdout",
     "output_type": "stream",
     "text": [
      "44223\n"
     ]
    }
   ],
   "source": [
    "print(len(chinese_word_dict))\n",
    "# chinese_word_dict"
   ]
  },
  {
   "cell_type": "code",
   "execution_count": 20,
   "metadata": {},
   "outputs": [],
   "source": [
    "mimc_data = pd.read_csv('./mimc_not_matched.csv')"
   ]
  },
  {
   "cell_type": "code",
   "execution_count": 25,
   "metadata": {},
   "outputs": [
    {
     "name": "stdout",
     "output_type": "stream",
     "text": [
      "59002\n"
     ]
    }
   ],
   "source": [
    "for idx, row in mimc_data.iterrows():\n",
    "    chinese_word_dict.append(row['zh'])\n",
    "print(len(chinese_word_dict))"
   ]
  },
  {
   "cell_type": "code",
   "execution_count": 29,
   "metadata": {},
   "outputs": [
    {
     "name": "stdout",
     "output_type": "stream",
     "text": [
      "6555\n"
     ]
    }
   ],
   "source": [
    "cnkd_data = pd.read_csv('./cnkd_not_matched.csv')\n",
    "print(len(cnkd_data))"
   ]
  },
  {
   "cell_type": "code",
   "execution_count": 31,
   "metadata": {},
   "outputs": [
    {
     "name": "stdout",
     "output_type": "stream",
     "text": [
      "65557\n"
     ]
    }
   ],
   "source": [
    "for idx, row in cnkd_data.iterrows():\n",
    "    chinese_word_dict.append(row['zh'])\n",
    "print(len(chinese_word_dict))"
   ]
  },
  {
   "cell_type": "code",
   "execution_count": 32,
   "metadata": {},
   "outputs": [],
   "source": [
    "chinese_word_dict = list(set(chinese_word_dict))"
   ]
  },
  {
   "cell_type": "code",
   "execution_count": 33,
   "metadata": {},
   "outputs": [
    {
     "data": {
      "text/plain": [
       "54609"
      ]
     },
     "execution_count": 33,
     "metadata": {},
     "output_type": "execute_result"
    }
   ],
   "source": [
    "len(chinese_word_dict)"
   ]
  },
  {
   "cell_type": "code",
   "execution_count": 38,
   "metadata": {},
   "outputs": [
    {
     "data": {
      "text/plain": [
       "True"
      ]
     },
     "execution_count": 38,
     "metadata": {},
     "output_type": "execute_result"
    }
   ],
   "source": [
    "'赫赛汀' in chinese_word_dict"
   ]
  },
  {
   "cell_type": "code",
   "execution_count": 39,
   "metadata": {},
   "outputs": [],
   "source": [
    "import pickle\n",
    "with open('./chinese_word_dict.pickle', 'wb') as f:\n",
    "    pickle.dump(chinese_word_dict, f)"
   ]
  },
  {
   "cell_type": "code",
   "execution_count": 40,
   "metadata": {},
   "outputs": [],
   "source": [
    "f_chinese_word_dict = open('chinese_word_dict.txt', 'w')\n",
    "write_list = [word+\"\\n\" for word in chinese_word_dict]\n",
    "f_chinese_word_dict.writelines(write_list)\n",
    "f_chinese_word_dict.close()"
   ]
  },
  {
   "cell_type": "code",
   "execution_count": null,
   "metadata": {},
   "outputs": [],
   "source": []
  }
 ],
 "metadata": {
  "kernelspec": {
   "display_name": "Python 3",
   "language": "python",
   "name": "python3"
  },
  "language_info": {
   "codemirror_mode": {
    "name": "ipython",
    "version": 3
   },
   "file_extension": ".py",
   "mimetype": "text/x-python",
   "name": "python",
   "nbconvert_exporter": "python",
   "pygments_lexer": "ipython3",
   "version": "3.7.1"
  }
 },
 "nbformat": 4,
 "nbformat_minor": 2
}
