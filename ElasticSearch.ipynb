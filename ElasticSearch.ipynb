{
 "cells": [
  {
   "cell_type": "code",
   "execution_count": 1,
   "metadata": {},
   "outputs": [],
   "source": [
    "import tqdm\n",
    "import os\n",
    "import re\n",
    "import codecs\n",
    "import jieba\n",
    "import pickle\n",
    "import pandas as pd\n",
    "from elasticsearch import Elasticsearch\n",
    "from elasticsearch.client import IndicesClient"
   ]
  },
  {
   "cell_type": "code",
   "execution_count": 2,
   "metadata": {},
   "outputs": [],
   "source": [
    "es = Elasticsearch([{'host':'localhost','port':9200}])"
   ]
  },
  {
   "cell_type": "code",
   "execution_count": 3,
   "metadata": {},
   "outputs": [],
   "source": [
    "es_idx = IndicesClient(es)"
   ]
  },
  {
   "cell_type": "code",
   "execution_count": 236,
   "metadata": {},
   "outputs": [
    {
     "name": "stdout",
     "output_type": "stream",
     "text": [
      "{\"acknowledged\":true,\"shards_acknowledged\":true,\"index\":\"main_idx\"}\n"
     ]
    }
   ],
   "source": [
    "a = os.popen('''\n",
    "curl -X PUT 'localhost:9200/main_idx' -d '\n",
    "{\n",
    "  \"mappings\": {\n",
    "    \"docs\": {\n",
    "      \"properties\": {\n",
    "        \"pure_text\": {\n",
    "          \"type\": \"text\",\n",
    "          \"analyzer\": \"ik_max_word\",\n",
    "          \"search_analyzer\": \"ik_max_word\"\n",
    "        },\n",
    "        \"processed_text\": {\n",
    "          \"type\": \"text\",\n",
    "          \"analyzer\": \"ik_max_word\",\n",
    "          \"search_analyzer\": \"ik_max_word\"\n",
    "        }\n",
    "      }\n",
    "    }\n",
    "  }\n",
    "}'\n",
    "''').read()\n",
    "for line in a.split('\\n'):\n",
    "    print(line)"
   ]
  },
  {
   "cell_type": "code",
   "execution_count": 35,
   "metadata": {},
   "outputs": [
    {
     "name": "stdout",
     "output_type": "stream",
     "text": [
      "{\"_index\":\"main_idx\",\"_type\":\"docs\",\"_id\":\"1\",\"_version\":1,\"result\":\"created\",\"_shards\":{\"total\":2,\"successful\":1,\"failed\":0},\"created\":true}\n"
     ]
    }
   ],
   "source": [
    "# res1 = os.popen('''\n",
    "# curl -X PUT 'localhost:9200/main_idx/docs/1' -d '\n",
    "# {\n",
    "#     \"pure_text\": \"中华人民共和国国歌\",\n",
    "#     \"processed_text\": \"中华 人民 共和国 国歌\"\n",
    "# }'\n",
    "# ''').read()\n",
    "# for line in res1.split('\\n'):\n",
    "#     print(line)"
   ]
  },
  {
   "cell_type": "code",
   "execution_count": 39,
   "metadata": {},
   "outputs": [
    {
     "name": "stdout",
     "output_type": "stream",
     "text": [
      "{\"took\":1,\"timed_out\":false,\"_shards\":{\"total\":5,\"successful\":5,\"skipped\":0,\"failed\":0},\"hits\":{\"total\":1,\"max_score\":0.25811607,\"hits\":[{\"_index\":\"main_idx\",\"_type\":\"docs\",\"_id\":\"1\",\"_score\":0.25811607,\"_source\":\n",
      "{\n",
      "    \"pure_text\": \"中华人民共和国国歌\",\n",
      "    \"processed_text\": \"中华 人民 共和国 国歌\"\n",
      "}}]}}\n"
     ]
    }
   ],
   "source": [
    "# res = os.popen('''\n",
    "# curl 'localhost:9200/main_idx/docs/_search'  -d '\n",
    "# {\n",
    "#   \"query\" : { \"match\" : { \"pure_text\" : \"中华人民共和国\" }}\n",
    "# }'\n",
    "# ''').read()\n",
    "# for line in res.split('\\n'):\n",
    "#     print(line)"
   ]
  },
  {
   "cell_type": "code",
   "execution_count": 70,
   "metadata": {},
   "outputs": [
    {
     "data": {
      "text/plain": [
       "False"
      ]
     },
     "execution_count": 70,
     "metadata": {},
     "output_type": "execute_result"
    }
   ],
   "source": [
    "# es_idx.exists(index='text_search')"
   ]
  },
  {
   "cell_type": "code",
   "execution_count": 235,
   "metadata": {},
   "outputs": [
    {
     "data": {
      "text/plain": [
       "{'acknowledged': True}"
      ]
     },
     "execution_count": 235,
     "metadata": {},
     "output_type": "execute_result"
    }
   ],
   "source": [
    "es_idx.delete(index='_all')"
   ]
  },
  {
   "cell_type": "code",
   "execution_count": 237,
   "metadata": {},
   "outputs": [
    {
     "name": "stdout",
     "output_type": "stream",
     "text": [
      "all_question:  1970\n",
      "all_question:  1656\n"
     ]
    },
    {
     "data": {
      "text/html": [
       "<div>\n",
       "<style scoped>\n",
       "    .dataframe tbody tr th:only-of-type {\n",
       "        vertical-align: middle;\n",
       "    }\n",
       "\n",
       "    .dataframe tbody tr th {\n",
       "        vertical-align: top;\n",
       "    }\n",
       "\n",
       "    .dataframe thead th {\n",
       "        text-align: right;\n",
       "    }\n",
       "</style>\n",
       "<table border=\"1\" class=\"dataframe\">\n",
       "  <thead>\n",
       "    <tr style=\"text-align: right;\">\n",
       "      <th></th>\n",
       "      <th>Case Number</th>\n",
       "      <th>Description</th>\n",
       "      <th>KeyWords</th>\n",
       "      <th>Processed</th>\n",
       "    </tr>\n",
       "  </thead>\n",
       "  <tbody>\n",
       "    <tr>\n",
       "      <th>0</th>\n",
       "      <td>1420656.0</td>\n",
       "      <td>赫赛汀  配了之后结冰了， 能否继续使用。</td>\n",
       "      <td>赫赛汀 使用</td>\n",
       "      <td>赫赛汀  配  之后  结冰  继续  使用</td>\n",
       "    </tr>\n",
       "    <tr>\n",
       "      <th>1</th>\n",
       "      <td>1423956.0</td>\n",
       "      <td>赫赛汀粉末形状如何？患者保存的赫赛汀的稀释液出现结冰情况，是否能否使用</td>\n",
       "      <td>无 赫赛汀 使用 患者</td>\n",
       "      <td>赫赛汀  粉末  形状  保存  赫赛汀  稀释  稀释液  出现  结冰  冰情  情况 ...</td>\n",
       "    </tr>\n",
       "    <tr>\n",
       "      <th>2</th>\n",
       "      <td>1434184.0</td>\n",
       "      <td>请帮忙查一些赫赛汀与血栓栓塞方面的数据和文献</td>\n",
       "      <td>查 血栓 无 赫赛汀 栓塞 血栓栓塞 文献</td>\n",
       "      <td>帮忙  查  赫赛汀  血栓  血栓栓塞  栓塞  方面  数据  和文  文献</td>\n",
       "    </tr>\n",
       "    <tr>\n",
       "      <th>3</th>\n",
       "      <td>1436011.0</td>\n",
       "      <td>拿到的赫赛汀呈现块状是否正常</td>\n",
       "      <td>赫赛汀 正常</td>\n",
       "      <td>拿到  赫赛汀  呈现  块状  是否  正常</td>\n",
       "    </tr>\n",
       "    <tr>\n",
       "      <th>4</th>\n",
       "      <td>1438071.0</td>\n",
       "      <td>常规配置和保存的赫赛汀复溶后的溶液保存在2-8度的情况下，现出现浑浊情况，能否使用</td>\n",
       "      <td>下 使用 现 赫赛汀 配置 溶液</td>\n",
       "      <td>常规  配置  保存  赫赛汀  复  溶  溶液  保存  存在  2  8  度  情况...</td>\n",
       "    </tr>\n",
       "  </tbody>\n",
       "</table>\n",
       "</div>"
      ],
      "text/plain": [
       "   Case Number                                Description  \\\n",
       "0    1420656.0                      赫赛汀  配了之后结冰了， 能否继续使用。   \n",
       "1    1423956.0        赫赛汀粉末形状如何？患者保存的赫赛汀的稀释液出现结冰情况，是否能否使用   \n",
       "2    1434184.0                     请帮忙查一些赫赛汀与血栓栓塞方面的数据和文献   \n",
       "3    1436011.0                             拿到的赫赛汀呈现块状是否正常   \n",
       "4    1438071.0  常规配置和保存的赫赛汀复溶后的溶液保存在2-8度的情况下，现出现浑浊情况，能否使用   \n",
       "\n",
       "                KeyWords                                          Processed  \n",
       "0                 赫赛汀 使用                             赫赛汀  配  之后  结冰  继续  使用  \n",
       "1            无 赫赛汀 使用 患者  赫赛汀  粉末  形状  保存  赫赛汀  稀释  稀释液  出现  结冰  冰情  情况 ...  \n",
       "2  查 血栓 无 赫赛汀 栓塞 血栓栓塞 文献           帮忙  查  赫赛汀  血栓  血栓栓塞  栓塞  方面  数据  和文  文献  \n",
       "3                 赫赛汀 正常                            拿到  赫赛汀  呈现  块状  是否  正常  \n",
       "4       下 使用 现 赫赛汀 配置 溶液  常规  配置  保存  赫赛汀  复  溶  溶液  保存  存在  2  8  度  情况...  "
      ]
     },
     "execution_count": 237,
     "metadata": {},
     "output_type": "execute_result"
    }
   ],
   "source": [
    "# all_question = pd.read_csv('./data/description.csv')\n",
    "Herceptin_question = pd.read_excel('./data/Herceptin.xlsx')\n",
    "# all_question = pd.read_excel('./data/Herceptin_funding_filtered.xlsx')\n",
    "# all_question = pd.read_excel('./data/Herceptin_patient_filtered.xlsx')\n",
    "Kadcyla_question = pd.read_excel('./data/Kadcyla.xlsx')\n",
    "Perjeta_1_question = pd.read_excel('./data/Perjeta_1.xlsx')\n",
    "Perjeta_2_question = pd.read_excel('./data/Perjeta_2.xlsx')\n",
    "Tecentriq_question = pd.read_excel('./data/Tecentriq.xlsx')\n",
    "Xeloda_question = pd.read_excel('./data/Xeloda.xlsx')\n",
    "No_product_question = pd.read_excel('./data/No_product_merged.xlsx')\n",
    "\n",
    "all_question = pd.concat([Herceptin_question, Kadcyla_question, Perjeta_1_question, Perjeta_2_question, Tecentriq_question, Xeloda_question, No_product_question])\n",
    "print('all_question: ', len(all_question))\n",
    "all_question.head(5)\n",
    "\n",
    "all_question.dropna(axis=0, inplace=True, subset=['Description'])\n",
    "all_question.isna().sum()\n",
    "\n",
    "print('all_question: ', len(all_question))\n",
    "\n",
    "jieba.load_userdict('./dict data/chinese_word_dict.txt')\n",
    "chinese_word_dict = pickle.load(open('./dict data/chinese_word_dict.pickle', 'rb'))\n",
    "stopwords = [line.strip() for line in codecs.open('./stopwords-zh.txt', 'r', encoding='utf8').readlines()]\n",
    "\n",
    "def keyword_extract(text, word_dict):\n",
    "#     text = list(jieba.cut(text, cut_all=False))\n",
    "    text = list(jieba.cut_for_search(text))\n",
    "    union_text = list(set(text).intersection(set(word_dict)))\n",
    "    return \" \".join(union_text)\n",
    "\n",
    "all_question['KeyWords'] = all_question.Description.apply(lambda x: keyword_extract(x, chinese_word_dict))\n",
    "\n",
    "# 去除所有“[]”内的文本\n",
    "def remove_special_string(text):\n",
    "    text = re.sub(r'\\[[^]]*\\]', '', text)\n",
    "    text = re.sub(r'\\([^)]*\\)', '', text)\n",
    "    text = re.sub(r'（[^）]*\\）', '', text)\n",
    "    text = re.sub(r'\\<[^>]*\\>', '', text)\n",
    "#     text = re.sub(r'[0-9]*', '', text)\n",
    "#     text = re.sub('患者', '', text)\n",
    "#     text = re.sub('家属', '', text)\n",
    "#     text = re.sub('咨询', '', text)\n",
    "#     text = re.sub('询问', '', text)\n",
    "    return text\n",
    "def remove_stopwords(text, stopwords):\n",
    "    text_cutted = jieba.cut(text, cut_all=True)\n",
    "    text_removed = []\n",
    "    for word in text_cutted:\n",
    "        if word in stopwords or word.strip()==\"\":\n",
    "            continue\n",
    "        text_removed.append(word)\n",
    "    return \"  \".join(text_removed)\n",
    "\n",
    "all_question['Description'] = all_question.Description.apply(lambda x: remove_special_string(x))\n",
    "all_question['Processed'] = all_question.Description.apply(lambda x: remove_special_string(x))\n",
    "all_question['Processed'] = all_question.Processed.apply(lambda x: remove_stopwords(x, stopwords))\n",
    "all_question.head()"
   ]
  },
  {
   "cell_type": "code",
   "execution_count": 259,
   "metadata": {},
   "outputs": [],
   "source": [
    "all_query_text = []\n",
    "for idx, row in all_question.iterrows():\n",
    "    all_query_text.append(str(row['Description']) + \"\\n\\n\")\n",
    "    \n",
    "# all_query_text_f = open('all_query_text.txt', 'w')\n",
    "# all_query_text_f.writelines(all_query_text)\n",
    "# all_query_text_f.close()"
   ]
  },
  {
   "cell_type": "code",
   "execution_count": 239,
   "metadata": {},
   "outputs": [
    {
     "name": "stdout",
     "output_type": "stream",
     "text": [
      "1656\n",
      "{'pure_text': '赫赛汀  配了之后结冰了， 能否继续使用。', 'processed_text': '赫赛汀 使用'}\n"
     ]
    }
   ],
   "source": [
    "doc_list = []\n",
    "for idx,row in all_question.iterrows():\n",
    "    doc = {\"pure_text\": row['Description'], \"processed_text\": row['KeyWords']}\n",
    "    doc_list.append(doc)\n",
    "print(len(doc_list))\n",
    "print(doc_list[0])"
   ]
  },
  {
   "cell_type": "code",
   "execution_count": 218,
   "metadata": {},
   "outputs": [
    {
     "name": "stdout",
     "output_type": "stream",
     "text": [
      "{\"_index\":\"main_idx\",\"_type\":\"docs\",\"_id\":\"AWsliWRfFGUTYcujgzY1\",\"_version\":1,\"result\":\"created\",\"_shards\":{\"total\":2,\"successful\":1,\"failed\":0},\"created\":true}\n"
     ]
    }
   ],
   "source": [
    "res1 = os.popen('''\n",
    "curl -X POST 'localhost:9200/main_idx/docs' -d '\n",
    "{\n",
    "    \"pure_text\": \"您好，请帮忙查一下数据，谢谢！需要绝经后女性乳腺癌的以下各项指标的比例。ER阳性，PR阳性，AR，HER2阳性，LuminalA，LuminalB，三阴性。感谢，盼复。\",\n",
    "    \"processed_text\": \"您好 ， 请 帮忙 查 一下 数据 ，谢谢 ！ 需要 绝经 后 女性 乳腺癌 的 以下 各项 指标 的 比例 。ER 阳性 ， PR 阳性 ， AR，HER2 阳性 ， LuminalA ， LuminalB ， 三阴性 。 感谢 ， 盼复 。 \"\n",
    "}'\n",
    "''').read()\n",
    "for line in res1.split('\\n'):\n",
    "    print(line)"
   ]
  },
  {
   "cell_type": "code",
   "execution_count": null,
   "metadata": {},
   "outputs": [],
   "source": [
    "for doc in doc_list:\n",
    "    temp = os.popen('''\n",
    "    curl -X POST 'localhost:9200/main_idx/docs' -d '\n",
    "    {}\n",
    "    '\n",
    "    '''.format(str(doc).replace(\"\\\"\", \"\\'\").replace(\"\\'\", \"\\\"\"))).read()\n",
    "    for line in temp.split('\\n'):\n",
    "        print(line)\n",
    "        \n",
    "#     print('''\n",
    "#     curl -X PUT 'localhost:9200/ik_test/docs/{}' -d '\n",
    "#     {}\n",
    "#     '\n",
    "#     '''.format(str(idx), str(doc_list[idx]).replace(\"\\\"\", \"\\'\").replace(\"\\'\", \"\\\"\")))\n",
    "    \n",
    "# curl -X PUT 'localhost:9200/ik_test/docs/1' -d '\n",
    "# {\n",
    "#     \"content\": \"中华人民共和国国歌\"\n",
    "# }'"
   ]
  },
  {
   "cell_type": "code",
   "execution_count": null,
   "metadata": {},
   "outputs": [],
   "source": [
    "res = os.popen('''\n",
    "curl 'localhost:9200/main_idx/docs/_search?pretty=true'  -d '\n",
    "{\n",
    "  \"query\" : { \"match\" : { \"processed_text\" : \"关于赫赛汀心脏毒性：1、临床 2、临床前\" }}\n",
    "}'\n",
    "''').read()\n",
    "for line in res.split('\\n'):\n",
    "    print(line)"
   ]
  },
  {
   "cell_type": "code",
   "execution_count": 96,
   "metadata": {},
   "outputs": [],
   "source": [
    "for idx in range(len(doc_list)):\n",
    "    es.index(index='text_search', id=idx, body=doc_list[idx])"
   ]
  },
  {
   "cell_type": "code",
   "execution_count": 250,
   "metadata": {},
   "outputs": [],
   "source": [
    "query = \"烦请帮忙查找以下方面的文献。1.三阴乳腺癌对希罗达耐药，应该用哪些药？2.三阴乳腺癌对其他药物耐药，对希罗达有效。\""
   ]
  },
  {
   "cell_type": "code",
   "execution_count": 260,
   "metadata": {},
   "outputs": [
    {
     "name": "stdout",
     "output_type": "stream",
     "text": [
      "1:   烦请帮忙查找以下方面的文献。1.三阴乳腺癌对希罗达耐药，应该用哪些药？2.三阴乳腺癌对其他药物耐药，对希罗达有效。\n",
      "2:   烦请帮忙查找以下方面的文献  3.乳腺癌耐药与外泌体的关系。\n",
      "3:   希罗达在三阴乳腺癌新辅助后强化治疗的治疗方面的文献\n",
      "4:   请帮忙查询Clinical trial上所有注册的关于希罗达在三阴乳腺癌方面的研究的内容\n",
      "5:   烦请帮忙查找以下方面的文献，4.希罗达对乳腺癌干细胞是否有作用。\n",
      "6:   希罗达在乳腺癌方面的最新文献\n",
      "7:   希罗达用于三阴乳腺癌的研究，最好是中文，英文也可\n",
      "8:  Her-2阳性乳腺癌含希罗达的方案文献  er-2阴性乳腺癌含希罗达的方案文献-\n",
      "9:   希罗达在三阴性乳腺癌中的文献和研究\n",
      "10:   希罗达在三阴乳腺癌术后节拍化疗的相关PPT或者文献。谢谢！\n",
      "11:   乳腺癌 希罗达 三阴型乳腺癌治疗\n",
      "12:  乳腺癌希罗达的相关研究以及乳腺癌方面最新的文献材料\n",
      "13:   乳腺癌治疗-希罗达-客户的问题为：1、目前希罗达在乳腺癌的定位是蒽环治疗失败或蒽环和紫杉均耐药才推荐使用，那么是否有希罗达与紫杉直接对照治疗乳腺癌的证据吗？希罗达是否可以代替紫杉作为一线之间使用？ 2、客户想阅读一下希罗达在晚期乳腺癌的实验原文，请帮忙收集一下哈\n",
      "14:   1.近3年来希罗达在转移性乳腺癌方面的论文，中英文，全部\n",
      "15:   乳腺癌希罗达的相关研究以及乳腺癌方面最新的文献材料\n",
      "16:   希罗达联合拉帕替尼在乳腺癌治疗方面文献   \n",
      "17:   您好，请帮忙查找希罗达在乳腺癌的最新进展的中文文献，以及乳腺癌维持治疗的最新数据，谢谢\n",
      "18:   希罗达在三阴性乳腺癌化疗的课件\n",
      "19:  问题描述： 希罗达在三阴乳腺癌的具体应用是否要跟紫衫或者铂类联用，联用一年？具体介入时间什么时候？\n",
      "20:   想要希罗达乳腺方面的研究文献；\n",
      "21:   乳腺癌三阳患者服用希罗达，要指南指证\n",
      "22:   希罗达在乳腺癌XTvsAT方案试验原文\n",
      "23:   客户需要近5年希罗达治疗乳腺癌的最新文献资料，\n",
      "24:  想了解一下有关希罗达在乳腺癌的实验有哪些具体的文献\n",
      "25:  希罗达晚期乳腺癌应用的相关文献研究\n",
      "26:  患者乳腺癌,之前使用的药物耐药,目前使用希罗达单药治疗,每天需要4500毫克/升,但是希罗达500毫克/片怎么用,医院第一次用药,后续还有很多问题,希望能有医药代表联系\n",
      "27:   希罗达在乳腺癌XTvsAT方案试验原文\n",
      "28:   希罗达联合曲妥珠单抗乳腺癌辅助治疗方面的材料\n",
      "29:   1.麻烦帮我找到CREATE-X研究原文  2.三阴性乳腺癌新辅助术后使用希罗达辅助化疗，希罗达用几个周期，用到什么时候结束\n",
      "30:   您好，麻烦帮忙查找：乳腺癌内分泌治疗失败后应用希罗达联合化疗的研究和指南推荐，谢谢\n",
      "31:  希罗达和替吉奥在转移性乳腺癌对比实验或者文献\n",
      "32:  FinXX和Uso实验三阴乳腺癌亚组分析\n",
      "33:   请问能否提供希罗达在乳腺癌晚期应用的讲者幻灯片\n",
      "34:   咨询三阴乳腺癌的治疗和新进展的资料，谢谢！\n",
      "35:  请帮忙提供近两年来关于希罗达在乳腺癌辅助治疗方面的所有实验研究，国内和国外的都要。如果公司有相关PPT，也麻烦发一下，谢谢！\n",
      "36:   都是关于希罗达在晚期乳腺癌的研究：1.多西他赛联合希罗达对比多西他赛单药，的3期临床研究原文2.希罗达 多西他赛vs 表柔比星 多西他赛的临床研究原文3.希罗达 多西他赛 vs 吉西他滨 多西他赛的临床研究原文谢谢您\n",
      "37:   希罗达在晚期乳腺癌解救治疗的相关文献\n",
      "38:   您好，麻烦帮忙查询三阴性乳腺癌目前化疗方面的一些内容，谢谢！\n",
      "39:  希罗达和乳腺癌科室会材料及流程\n",
      "40:   麻烦帮我找希罗达用于乳腺癌治疗的两周方案询征资料，谢谢！\n",
      "41:   想找文献：希罗达联合内分泌治疗乳腺癌的相关文献\n",
      "42:  希罗达能否用于乳腺癌骨转移\n",
      "43:   希罗达在肠癌有微卫星不稳定的指标，不知道在乳腺癌方面，微卫星不稳定有没有相关研究或文献？\n",
      "44:   希罗达单药用于晚期乳腺癌治疗的文献或研究，谢谢！\n",
      "45:   关于希罗达在乳腺癌辅助治疗方面的相关研究以及文献，中英文版本，全面的资料，谢谢\n",
      "46:   麻烦帮我找希罗达两周方案的乳腺癌的权威研究文献好吗，谢谢！最好中文,英文高级别也可以\n",
      "47:   乳腺癌内分泌治疗联合希罗达的相关文献，英文也可以\n",
      "48:   麻烦帮我找到希罗达在三阴性乳腺癌，HER2阳性乳腺癌，luminal型乳腺癌中在一线，二线的所有化疗方案研究，谢谢\n",
      "49:   老师希望能有三阴乳腺癌最新进展的PPT\n",
      "50:   希罗达联合曲妥珠单抗在乳腺癌辅助治疗中的相关资料\n"
     ]
    }
   ],
   "source": [
    "# processed_text  pure_text\n",
    "results = es.search(index='main_idx', body=\n",
    "{\n",
    "  \"query\" : { \"match\" : { \"pure_text\" : query }}\n",
    "}\n",
    "# {\n",
    "#   \"query\": {\n",
    "#     \"bool\": {\n",
    "#       \"must\":     { \"match\": { \"processed_text\": query }},\n",
    "#       \"should\":   { \"match\": { \"pure_text\": \"帕妥珠单抗\" }}\n",
    "#     }\n",
    "#   }\n",
    "# }\n",
    ",size=50)\n",
    "hits = results['hits']['hits']\n",
    "# results\n",
    "for idx, res in enumerate(hits):\n",
    "#     if \"帕妥珠单抗\" in res['_source']['pure_text']:\n",
    "    print(str(idx+1) + \":  \" + res['_source']['pure_text'])"
   ]
  },
  {
   "cell_type": "code",
   "execution_count": null,
   "metadata": {},
   "outputs": [],
   "source": []
  },
  {
   "cell_type": "code",
   "execution_count": 258,
   "metadata": {},
   "outputs": [
    {
     "name": "stdout",
     "output_type": "stream",
     "text": [
      "烦请\n",
      "帮忙\n",
      "查找\n",
      "查\n",
      "找\n",
      "以下\n",
      "下方\n",
      "方\n",
      "方面\n",
      "方\n",
      "面\n",
      "文献\n",
      "1\n",
      "三阴乳腺癌\n",
      "阴\n",
      "乳腺癌\n",
      "乳腺\n",
      "乳\n",
      "腺癌\n",
      "癌\n",
      "乳腺\n",
      "乳\n",
      "腺\n",
      "乳腺癌\n",
      "乳腺\n",
      "乳\n",
      "腺癌\n",
      "癌\n",
      "腺癌\n",
      "癌\n",
      "希\n",
      "罗\n",
      "希罗达\n",
      "罗\n",
      "达\n",
      "耐药\n",
      "应该\n",
      "应\n",
      "药\n",
      "2\n",
      "三阴乳腺癌\n",
      "阴\n",
      "乳腺癌\n",
      "乳腺\n",
      "乳\n",
      "腺癌\n",
      "癌\n",
      "乳腺\n",
      "乳\n",
      "腺\n",
      "乳腺癌\n",
      "乳腺\n",
      "乳\n",
      "腺癌\n",
      "癌\n",
      "腺癌\n",
      "癌\n",
      "药物\n",
      "物\n",
      "耐药\n",
      "希\n",
      "罗\n",
      "希罗达\n",
      "罗\n",
      "达\n",
      "有效\n"
     ]
    }
   ],
   "source": [
    "tokens_res = es_idx.analyze(index='main_idx', body={\n",
    "    \"analyzer\": \"ik_max_word\",\n",
    "#     \"analyzer\": \"ik_smart\",\n",
    "    \"text\" : \"'烦请  帮忙  查找  以下  下方  方面  文献  1  三阴乳腺癌  乳腺  乳腺癌  腺癌  希罗  希罗达  耐药  应该  药  2  三阴乳腺癌  乳腺  乳腺癌  腺癌  药物  耐药  希罗  希罗达  有效'\"\n",
    "})\n",
    "for token in tokens_res['tokens']:\n",
    "    print(token['token'])"
   ]
  },
  {
   "cell_type": "code",
   "execution_count": null,
   "metadata": {},
   "outputs": [],
   "source": []
  },
  {
   "cell_type": "code",
   "execution_count": null,
   "metadata": {},
   "outputs": [],
   "source": []
  },
  {
   "cell_type": "code",
   "execution_count": null,
   "metadata": {},
   "outputs": [],
   "source": []
  },
  {
   "cell_type": "code",
   "execution_count": null,
   "metadata": {},
   "outputs": [],
   "source": []
  },
  {
   "cell_type": "code",
   "execution_count": null,
   "metadata": {},
   "outputs": [],
   "source": []
  },
  {
   "cell_type": "code",
   "execution_count": null,
   "metadata": {},
   "outputs": [],
   "source": []
  },
  {
   "cell_type": "code",
   "execution_count": null,
   "metadata": {},
   "outputs": [],
   "source": []
  }
 ],
 "metadata": {
  "kernelspec": {
   "display_name": "Python 3",
   "language": "python",
   "name": "python3"
  },
  "language_info": {
   "codemirror_mode": {
    "name": "ipython",
    "version": 3
   },
   "file_extension": ".py",
   "mimetype": "text/x-python",
   "name": "python",
   "nbconvert_exporter": "python",
   "pygments_lexer": "ipython3",
   "version": "3.7.1"
  }
 },
 "nbformat": 4,
 "nbformat_minor": 2
}
