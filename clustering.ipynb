{
 "cells": [
  {
   "cell_type": "code",
   "execution_count": 190,
   "metadata": {},
   "outputs": [],
   "source": [
    "import pandas as pd\n",
    "import numpy as np\n",
    "import re\n",
    "import string\n",
    "import jieba\n",
    "import collections\n",
    "import codecs\n",
    "\n",
    "from sklearn.feature_extraction.text import TfidfVectorizer\n",
    "from sklearn.decomposition import TruncatedSVD\n",
    "from sklearn.cluster import KMeans\n",
    "from sklearn.cluster import DBSCAN\n",
    "\n",
    "from gensim.models.doc2vec import Doc2Vec, TaggedDocument"
   ]
  },
  {
   "cell_type": "code",
   "execution_count": 191,
   "metadata": {},
   "outputs": [],
   "source": [
    "# all_question = pd.read_csv('./data/description.csv')\n",
    "# all_question = pd.read_excel('./data/Herceptin.xlsx')\n",
    "# all_question = pd.read_excel('./data/Herceptin_funding_filtered.xlsx')\n",
    "all_question = pd.read_excel('./data/Herceptin_patient_filtered.xlsx')"
   ]
  },
  {
   "cell_type": "code",
   "execution_count": 192,
   "metadata": {},
   "outputs": [
    {
     "data": {
      "text/html": [
       "<div>\n",
       "<style scoped>\n",
       "    .dataframe tbody tr th:only-of-type {\n",
       "        vertical-align: middle;\n",
       "    }\n",
       "\n",
       "    .dataframe tbody tr th {\n",
       "        vertical-align: top;\n",
       "    }\n",
       "\n",
       "    .dataframe thead th {\n",
       "        text-align: right;\n",
       "    }\n",
       "</style>\n",
       "<table border=\"1\" class=\"dataframe\">\n",
       "  <thead>\n",
       "    <tr style=\"text-align: right;\">\n",
       "      <th></th>\n",
       "      <th>Case Number</th>\n",
       "      <th>Contact Type</th>\n",
       "      <th>Contact Channel</th>\n",
       "      <th>Response Channel</th>\n",
       "      <th>Enquiry Classification</th>\n",
       "      <th>Subject</th>\n",
       "      <th>Description</th>\n",
       "      <th>Product</th>\n",
       "      <th>Response</th>\n",
       "      <th>Unnamed: 9</th>\n",
       "    </tr>\n",
       "  </thead>\n",
       "  <tbody>\n",
       "    <tr>\n",
       "      <th>0</th>\n",
       "      <td>1420656</td>\n",
       "      <td>Nurse</td>\n",
       "      <td>Affiliate MI mailbox</td>\n",
       "      <td>Phone</td>\n",
       "      <td>Stability/Storage/Reconstitution</td>\n",
       "      <td>beyond temperature</td>\n",
       "      <td>赫赛汀 （批号1： N3825B03B3049, 批号2： N3826B02B3050） 配...</td>\n",
       "      <td>Herceptin</td>\n",
       "      <td>根据说明书信息，赫赛汀需要存放于2-8度的温度中，超温保存对于药品活性会产生影响，不建议使用。</td>\n",
       "      <td>NaN</td>\n",
       "    </tr>\n",
       "    <tr>\n",
       "      <th>1</th>\n",
       "      <td>1423956</td>\n",
       "      <td>Internal</td>\n",
       "      <td>Phone</td>\n",
       "      <td>Email</td>\n",
       "      <td>Stability/Storage/Reconstitution</td>\n",
       "      <td>beyond temperature-herceptin</td>\n",
       "      <td>赫赛汀粉末形状如何？患者保存的赫赛汀的稀释液出现结冰情况，是否能否使用（无产品批号信息）</td>\n",
       "      <td>Herceptin</td>\n",
       "      <td>[#Responded via email: 罗氏医学信息: [01423956]#]</td>\n",
       "      <td>NaN</td>\n",
       "    </tr>\n",
       "    <tr>\n",
       "      <th>3</th>\n",
       "      <td>1434184</td>\n",
       "      <td>Physician</td>\n",
       "      <td>Internal Webform</td>\n",
       "      <td>Email</td>\n",
       "      <td>Safety</td>\n",
       "      <td>AE-Herceptin&amp;Thromboembolism</td>\n",
       "      <td>[Wechat] 请帮忙查一些赫赛汀与血栓栓塞方面的数据和文献（确认无AE）</td>\n",
       "      <td>Herceptin</td>\n",
       "      <td>[#Responded via email: 罗氏医学信息: [01434184]#]</td>\n",
       "      <td>NaN</td>\n",
       "    </tr>\n",
       "    <tr>\n",
       "      <th>5</th>\n",
       "      <td>1438071</td>\n",
       "      <td>Internal</td>\n",
       "      <td>Phone</td>\n",
       "      <td>Email;Phone</td>\n",
       "      <td>Product Quality</td>\n",
       "      <td>quality-herceptin</td>\n",
       "      <td>常规配置和保存的赫赛汀复溶后的溶液保存在2-8度的情况下，现出现浑浊情况，能否使用</td>\n",
       "      <td>Herceptin</td>\n",
       "      <td>根据Herceptin说明书信息，溶解后为无色至淡黄色，澄清至微乳光溶液。该case记录PC上报</td>\n",
       "      <td>NaN</td>\n",
       "    </tr>\n",
       "    <tr>\n",
       "      <th>6</th>\n",
       "      <td>1439604</td>\n",
       "      <td>Internal</td>\n",
       "      <td>In person</td>\n",
       "      <td>Email</td>\n",
       "      <td>Publication/Educational Material Request</td>\n",
       "      <td>PI-herceptin</td>\n",
       "      <td>赫赛汀最新说明书</td>\n",
       "      <td>Herceptin</td>\n",
       "      <td>[#Responded via email: 罗氏医学信息: [01439604]#]</td>\n",
       "      <td>NaN</td>\n",
       "    </tr>\n",
       "    <tr>\n",
       "      <th>9</th>\n",
       "      <td>1444557</td>\n",
       "      <td>Nurse</td>\n",
       "      <td>Phone</td>\n",
       "      <td>Phone</td>\n",
       "      <td>Stability/Storage/Reconstitution</td>\n",
       "      <td>beyond temperature-Herceptin</td>\n",
       "      <td>赫赛汀注射前发现稀释液有结冰情况，能否使用，产品批号（SH0128，N3834/B3051）</td>\n",
       "      <td>Herceptin</td>\n",
       "      <td>根据说明书信息，赫赛汀需要在2-8度保存和运输，超温保存会影响药品活性，从而影响疗效和安全性...</td>\n",
       "      <td>NaN</td>\n",
       "    </tr>\n",
       "    <tr>\n",
       "      <th>14</th>\n",
       "      <td>1444893</td>\n",
       "      <td>Nurse</td>\n",
       "      <td>Internal Webform</td>\n",
       "      <td>Email</td>\n",
       "      <td>Dosage/Administration</td>\n",
       "      <td>administration-Herceptin</td>\n",
       "      <td>[Wechat] 如果不同批号的药品基于追溯不良反应考虑分开使用，请问所需盐水的量和注射时间...</td>\n",
       "      <td>Herceptin</td>\n",
       "      <td>[#Responded via email: 罗氏医学信息: [01444893]#]</td>\n",
       "      <td>NaN</td>\n",
       "    </tr>\n",
       "    <tr>\n",
       "      <th>15</th>\n",
       "      <td>1446436</td>\n",
       "      <td>Internal</td>\n",
       "      <td>Phone</td>\n",
       "      <td>Email</td>\n",
       "      <td>Safety</td>\n",
       "      <td>AE-herceptin&amp;Extravasation</td>\n",
       "      <td>赫赛汀如果外渗对外周组织会有何影响（确认无AE）</td>\n",
       "      <td>Herceptin</td>\n",
       "      <td>[#Responded via email: 罗氏医学信息: [01446436]#]</td>\n",
       "      <td>NaN</td>\n",
       "    </tr>\n",
       "    <tr>\n",
       "      <th>16</th>\n",
       "      <td>1453717</td>\n",
       "      <td>Wholesaler</td>\n",
       "      <td>Affiliate MI mailbox</td>\n",
       "      <td>Phone</td>\n",
       "      <td>Logistics/Funding/Regulatory</td>\n",
       "      <td>supply-herceptin</td>\n",
       "      <td>有医院的肿瘤科需要药品赫赛汀，想了解在医院销售的做法。</td>\n",
       "      <td>Herceptin</td>\n",
       "      <td>患者热线无法提供商业销售方面的信息，请与当地商务联系</td>\n",
       "      <td>NaN</td>\n",
       "    </tr>\n",
       "    <tr>\n",
       "      <th>17</th>\n",
       "      <td>1453767</td>\n",
       "      <td>Physician</td>\n",
       "      <td>Internal Webform</td>\n",
       "      <td>Email</td>\n",
       "      <td>Safety</td>\n",
       "      <td>AE-Herceptin&amp;psoriasis</td>\n",
       "      <td>[Wechat] 使用赫赛汀对银屑病是否有影响？</td>\n",
       "      <td>Herceptin</td>\n",
       "      <td>[#Responded via email: 罗氏医学信息: [01453767]#]</td>\n",
       "      <td>NaN</td>\n",
       "    </tr>\n",
       "  </tbody>\n",
       "</table>\n",
       "</div>"
      ],
      "text/plain": [
       "    Case Number Contact Type       Contact Channel Response Channel  \\\n",
       "0       1420656        Nurse  Affiliate MI mailbox            Phone   \n",
       "1       1423956     Internal                 Phone            Email   \n",
       "3       1434184    Physician      Internal Webform            Email   \n",
       "5       1438071     Internal                 Phone      Email;Phone   \n",
       "6       1439604     Internal             In person            Email   \n",
       "9       1444557        Nurse                 Phone            Phone   \n",
       "14      1444893        Nurse      Internal Webform            Email   \n",
       "15      1446436     Internal                 Phone            Email   \n",
       "16      1453717   Wholesaler  Affiliate MI mailbox            Phone   \n",
       "17      1453767    Physician      Internal Webform            Email   \n",
       "\n",
       "                      Enquiry Classification                       Subject  \\\n",
       "0           Stability/Storage/Reconstitution            beyond temperature   \n",
       "1           Stability/Storage/Reconstitution  beyond temperature-herceptin   \n",
       "3                                     Safety  AE-Herceptin&Thromboembolism   \n",
       "5                            Product Quality             quality-herceptin   \n",
       "6   Publication/Educational Material Request                  PI-herceptin   \n",
       "9           Stability/Storage/Reconstitution  beyond temperature-Herceptin   \n",
       "14                     Dosage/Administration      administration-Herceptin   \n",
       "15                                    Safety    AE-herceptin&Extravasation   \n",
       "16              Logistics/Funding/Regulatory              supply-herceptin   \n",
       "17                                    Safety        AE-Herceptin&psoriasis   \n",
       "\n",
       "                                          Description    Product  \\\n",
       "0   赫赛汀 （批号1： N3825B03B3049, 批号2： N3826B02B3050） 配...  Herceptin   \n",
       "1        赫赛汀粉末形状如何？患者保存的赫赛汀的稀释液出现结冰情况，是否能否使用（无产品批号信息）  Herceptin   \n",
       "3              [Wechat] 请帮忙查一些赫赛汀与血栓栓塞方面的数据和文献（确认无AE）  Herceptin   \n",
       "5           常规配置和保存的赫赛汀复溶后的溶液保存在2-8度的情况下，现出现浑浊情况，能否使用  Herceptin   \n",
       "6                                            赫赛汀最新说明书  Herceptin   \n",
       "9      赫赛汀注射前发现稀释液有结冰情况，能否使用，产品批号（SH0128，N3834/B3051）  Herceptin   \n",
       "14  [Wechat] 如果不同批号的药品基于追溯不良反应考虑分开使用，请问所需盐水的量和注射时间...  Herceptin   \n",
       "15                           赫赛汀如果外渗对外周组织会有何影响（确认无AE）  Herceptin   \n",
       "16                        有医院的肿瘤科需要药品赫赛汀，想了解在医院销售的做法。  Herceptin   \n",
       "17                           [Wechat] 使用赫赛汀对银屑病是否有影响？  Herceptin   \n",
       "\n",
       "                                             Response  Unnamed: 9  \n",
       "0     根据说明书信息，赫赛汀需要存放于2-8度的温度中，超温保存对于药品活性会产生影响，不建议使用。         NaN  \n",
       "1         [#Responded via email: 罗氏医学信息: [01423956]#]         NaN  \n",
       "3         [#Responded via email: 罗氏医学信息: [01434184]#]         NaN  \n",
       "5    根据Herceptin说明书信息，溶解后为无色至淡黄色，澄清至微乳光溶液。该case记录PC上报         NaN  \n",
       "6         [#Responded via email: 罗氏医学信息: [01439604]#]         NaN  \n",
       "9   根据说明书信息，赫赛汀需要在2-8度保存和运输，超温保存会影响药品活性，从而影响疗效和安全性...         NaN  \n",
       "14        [#Responded via email: 罗氏医学信息: [01444893]#]         NaN  \n",
       "15        [#Responded via email: 罗氏医学信息: [01446436]#]         NaN  \n",
       "16                         患者热线无法提供商业销售方面的信息，请与当地商务联系         NaN  \n",
       "17        [#Responded via email: 罗氏医学信息: [01453767]#]         NaN  "
      ]
     },
     "execution_count": 192,
     "metadata": {},
     "output_type": "execute_result"
    }
   ],
   "source": [
    "all_question.head(10)"
   ]
  },
  {
   "cell_type": "code",
   "execution_count": 193,
   "metadata": {},
   "outputs": [],
   "source": [
    "all_question.dropna(axis=0, inplace=True, subset=['Description'])"
   ]
  },
  {
   "cell_type": "code",
   "execution_count": 194,
   "metadata": {},
   "outputs": [
    {
     "data": {
      "text/html": [
       "<div>\n",
       "<style scoped>\n",
       "    .dataframe tbody tr th:only-of-type {\n",
       "        vertical-align: middle;\n",
       "    }\n",
       "\n",
       "    .dataframe tbody tr th {\n",
       "        vertical-align: top;\n",
       "    }\n",
       "\n",
       "    .dataframe thead th {\n",
       "        text-align: right;\n",
       "    }\n",
       "</style>\n",
       "<table border=\"1\" class=\"dataframe\">\n",
       "  <thead>\n",
       "    <tr style=\"text-align: right;\">\n",
       "      <th></th>\n",
       "      <th>Case Number</th>\n",
       "      <th>Contact Type</th>\n",
       "      <th>Contact Channel</th>\n",
       "      <th>Response Channel</th>\n",
       "      <th>Enquiry Classification</th>\n",
       "      <th>Subject</th>\n",
       "      <th>Description</th>\n",
       "      <th>Product</th>\n",
       "      <th>Response</th>\n",
       "      <th>Unnamed: 9</th>\n",
       "    </tr>\n",
       "  </thead>\n",
       "  <tbody>\n",
       "    <tr>\n",
       "      <th>0</th>\n",
       "      <td>1420656</td>\n",
       "      <td>Nurse</td>\n",
       "      <td>Affiliate MI mailbox</td>\n",
       "      <td>Phone</td>\n",
       "      <td>Stability/Storage/Reconstitution</td>\n",
       "      <td>beyond temperature</td>\n",
       "      <td>赫赛汀 （批号1： N3825B03B3049, 批号2： N3826B02B3050） 配...</td>\n",
       "      <td>Herceptin</td>\n",
       "      <td>根据说明书信息，赫赛汀需要存放于2-8度的温度中，超温保存对于药品活性会产生影响，不建议使用。</td>\n",
       "      <td>NaN</td>\n",
       "    </tr>\n",
       "    <tr>\n",
       "      <th>1</th>\n",
       "      <td>1423956</td>\n",
       "      <td>Internal</td>\n",
       "      <td>Phone</td>\n",
       "      <td>Email</td>\n",
       "      <td>Stability/Storage/Reconstitution</td>\n",
       "      <td>beyond temperature-herceptin</td>\n",
       "      <td>赫赛汀粉末形状如何？患者保存的赫赛汀的稀释液出现结冰情况，是否能否使用（无产品批号信息）</td>\n",
       "      <td>Herceptin</td>\n",
       "      <td>[#Responded via email: 罗氏医学信息: [01423956]#]</td>\n",
       "      <td>NaN</td>\n",
       "    </tr>\n",
       "    <tr>\n",
       "      <th>3</th>\n",
       "      <td>1434184</td>\n",
       "      <td>Physician</td>\n",
       "      <td>Internal Webform</td>\n",
       "      <td>Email</td>\n",
       "      <td>Safety</td>\n",
       "      <td>AE-Herceptin&amp;Thromboembolism</td>\n",
       "      <td>[Wechat] 请帮忙查一些赫赛汀与血栓栓塞方面的数据和文献（确认无AE）</td>\n",
       "      <td>Herceptin</td>\n",
       "      <td>[#Responded via email: 罗氏医学信息: [01434184]#]</td>\n",
       "      <td>NaN</td>\n",
       "    </tr>\n",
       "    <tr>\n",
       "      <th>5</th>\n",
       "      <td>1438071</td>\n",
       "      <td>Internal</td>\n",
       "      <td>Phone</td>\n",
       "      <td>Email;Phone</td>\n",
       "      <td>Product Quality</td>\n",
       "      <td>quality-herceptin</td>\n",
       "      <td>常规配置和保存的赫赛汀复溶后的溶液保存在2-8度的情况下，现出现浑浊情况，能否使用</td>\n",
       "      <td>Herceptin</td>\n",
       "      <td>根据Herceptin说明书信息，溶解后为无色至淡黄色，澄清至微乳光溶液。该case记录PC上报</td>\n",
       "      <td>NaN</td>\n",
       "    </tr>\n",
       "    <tr>\n",
       "      <th>6</th>\n",
       "      <td>1439604</td>\n",
       "      <td>Internal</td>\n",
       "      <td>In person</td>\n",
       "      <td>Email</td>\n",
       "      <td>Publication/Educational Material Request</td>\n",
       "      <td>PI-herceptin</td>\n",
       "      <td>赫赛汀最新说明书</td>\n",
       "      <td>Herceptin</td>\n",
       "      <td>[#Responded via email: 罗氏医学信息: [01439604]#]</td>\n",
       "      <td>NaN</td>\n",
       "    </tr>\n",
       "    <tr>\n",
       "      <th>9</th>\n",
       "      <td>1444557</td>\n",
       "      <td>Nurse</td>\n",
       "      <td>Phone</td>\n",
       "      <td>Phone</td>\n",
       "      <td>Stability/Storage/Reconstitution</td>\n",
       "      <td>beyond temperature-Herceptin</td>\n",
       "      <td>赫赛汀注射前发现稀释液有结冰情况，能否使用，产品批号（SH0128，N3834/B3051）</td>\n",
       "      <td>Herceptin</td>\n",
       "      <td>根据说明书信息，赫赛汀需要在2-8度保存和运输，超温保存会影响药品活性，从而影响疗效和安全性...</td>\n",
       "      <td>NaN</td>\n",
       "    </tr>\n",
       "    <tr>\n",
       "      <th>14</th>\n",
       "      <td>1444893</td>\n",
       "      <td>Nurse</td>\n",
       "      <td>Internal Webform</td>\n",
       "      <td>Email</td>\n",
       "      <td>Dosage/Administration</td>\n",
       "      <td>administration-Herceptin</td>\n",
       "      <td>[Wechat] 如果不同批号的药品基于追溯不良反应考虑分开使用，请问所需盐水的量和注射时间...</td>\n",
       "      <td>Herceptin</td>\n",
       "      <td>[#Responded via email: 罗氏医学信息: [01444893]#]</td>\n",
       "      <td>NaN</td>\n",
       "    </tr>\n",
       "    <tr>\n",
       "      <th>15</th>\n",
       "      <td>1446436</td>\n",
       "      <td>Internal</td>\n",
       "      <td>Phone</td>\n",
       "      <td>Email</td>\n",
       "      <td>Safety</td>\n",
       "      <td>AE-herceptin&amp;Extravasation</td>\n",
       "      <td>赫赛汀如果外渗对外周组织会有何影响（确认无AE）</td>\n",
       "      <td>Herceptin</td>\n",
       "      <td>[#Responded via email: 罗氏医学信息: [01446436]#]</td>\n",
       "      <td>NaN</td>\n",
       "    </tr>\n",
       "    <tr>\n",
       "      <th>16</th>\n",
       "      <td>1453717</td>\n",
       "      <td>Wholesaler</td>\n",
       "      <td>Affiliate MI mailbox</td>\n",
       "      <td>Phone</td>\n",
       "      <td>Logistics/Funding/Regulatory</td>\n",
       "      <td>supply-herceptin</td>\n",
       "      <td>有医院的肿瘤科需要药品赫赛汀，想了解在医院销售的做法。</td>\n",
       "      <td>Herceptin</td>\n",
       "      <td>患者热线无法提供商业销售方面的信息，请与当地商务联系</td>\n",
       "      <td>NaN</td>\n",
       "    </tr>\n",
       "    <tr>\n",
       "      <th>17</th>\n",
       "      <td>1453767</td>\n",
       "      <td>Physician</td>\n",
       "      <td>Internal Webform</td>\n",
       "      <td>Email</td>\n",
       "      <td>Safety</td>\n",
       "      <td>AE-Herceptin&amp;psoriasis</td>\n",
       "      <td>[Wechat] 使用赫赛汀对银屑病是否有影响？</td>\n",
       "      <td>Herceptin</td>\n",
       "      <td>[#Responded via email: 罗氏医学信息: [01453767]#]</td>\n",
       "      <td>NaN</td>\n",
       "    </tr>\n",
       "  </tbody>\n",
       "</table>\n",
       "</div>"
      ],
      "text/plain": [
       "    Case Number Contact Type       Contact Channel Response Channel  \\\n",
       "0       1420656        Nurse  Affiliate MI mailbox            Phone   \n",
       "1       1423956     Internal                 Phone            Email   \n",
       "3       1434184    Physician      Internal Webform            Email   \n",
       "5       1438071     Internal                 Phone      Email;Phone   \n",
       "6       1439604     Internal             In person            Email   \n",
       "9       1444557        Nurse                 Phone            Phone   \n",
       "14      1444893        Nurse      Internal Webform            Email   \n",
       "15      1446436     Internal                 Phone            Email   \n",
       "16      1453717   Wholesaler  Affiliate MI mailbox            Phone   \n",
       "17      1453767    Physician      Internal Webform            Email   \n",
       "\n",
       "                      Enquiry Classification                       Subject  \\\n",
       "0           Stability/Storage/Reconstitution            beyond temperature   \n",
       "1           Stability/Storage/Reconstitution  beyond temperature-herceptin   \n",
       "3                                     Safety  AE-Herceptin&Thromboembolism   \n",
       "5                            Product Quality             quality-herceptin   \n",
       "6   Publication/Educational Material Request                  PI-herceptin   \n",
       "9           Stability/Storage/Reconstitution  beyond temperature-Herceptin   \n",
       "14                     Dosage/Administration      administration-Herceptin   \n",
       "15                                    Safety    AE-herceptin&Extravasation   \n",
       "16              Logistics/Funding/Regulatory              supply-herceptin   \n",
       "17                                    Safety        AE-Herceptin&psoriasis   \n",
       "\n",
       "                                          Description    Product  \\\n",
       "0   赫赛汀 （批号1： N3825B03B3049, 批号2： N3826B02B3050） 配...  Herceptin   \n",
       "1        赫赛汀粉末形状如何？患者保存的赫赛汀的稀释液出现结冰情况，是否能否使用（无产品批号信息）  Herceptin   \n",
       "3              [Wechat] 请帮忙查一些赫赛汀与血栓栓塞方面的数据和文献（确认无AE）  Herceptin   \n",
       "5           常规配置和保存的赫赛汀复溶后的溶液保存在2-8度的情况下，现出现浑浊情况，能否使用  Herceptin   \n",
       "6                                            赫赛汀最新说明书  Herceptin   \n",
       "9      赫赛汀注射前发现稀释液有结冰情况，能否使用，产品批号（SH0128，N3834/B3051）  Herceptin   \n",
       "14  [Wechat] 如果不同批号的药品基于追溯不良反应考虑分开使用，请问所需盐水的量和注射时间...  Herceptin   \n",
       "15                           赫赛汀如果外渗对外周组织会有何影响（确认无AE）  Herceptin   \n",
       "16                        有医院的肿瘤科需要药品赫赛汀，想了解在医院销售的做法。  Herceptin   \n",
       "17                           [Wechat] 使用赫赛汀对银屑病是否有影响？  Herceptin   \n",
       "\n",
       "                                             Response  Unnamed: 9  \n",
       "0     根据说明书信息，赫赛汀需要存放于2-8度的温度中，超温保存对于药品活性会产生影响，不建议使用。         NaN  \n",
       "1         [#Responded via email: 罗氏医学信息: [01423956]#]         NaN  \n",
       "3         [#Responded via email: 罗氏医学信息: [01434184]#]         NaN  \n",
       "5    根据Herceptin说明书信息，溶解后为无色至淡黄色，澄清至微乳光溶液。该case记录PC上报         NaN  \n",
       "6         [#Responded via email: 罗氏医学信息: [01439604]#]         NaN  \n",
       "9   根据说明书信息，赫赛汀需要在2-8度保存和运输，超温保存会影响药品活性，从而影响疗效和安全性...         NaN  \n",
       "14        [#Responded via email: 罗氏医学信息: [01444893]#]         NaN  \n",
       "15        [#Responded via email: 罗氏医学信息: [01446436]#]         NaN  \n",
       "16                         患者热线无法提供商业销售方面的信息，请与当地商务联系         NaN  \n",
       "17        [#Responded via email: 罗氏医学信息: [01453767]#]         NaN  "
      ]
     },
     "execution_count": 194,
     "metadata": {},
     "output_type": "execute_result"
    }
   ],
   "source": [
    "all_question.head(10)"
   ]
  },
  {
   "cell_type": "code",
   "execution_count": 195,
   "metadata": {},
   "outputs": [
    {
     "data": {
      "text/plain": [
       "Case Number                 0\n",
       "Contact Type                0\n",
       "Contact Channel             0\n",
       "Response Channel            0\n",
       "Enquiry Classification      0\n",
       "Subject                     0\n",
       "Description                 0\n",
       "Product                     0\n",
       "Response                    0\n",
       "Unnamed: 9                201\n",
       "dtype: int64"
      ]
     },
     "execution_count": 195,
     "metadata": {},
     "output_type": "execute_result"
    }
   ],
   "source": [
    "all_question.isna().sum()"
   ]
  },
  {
   "cell_type": "code",
   "execution_count": 196,
   "metadata": {},
   "outputs": [
    {
     "data": {
      "text/plain": [
       "201"
      ]
     },
     "execution_count": 196,
     "metadata": {},
     "output_type": "execute_result"
    }
   ],
   "source": [
    "all_source_data = []\n",
    "for idx,row in all_question.iterrows():\n",
    "    all_source_data.append(row['Description'])\n",
    "len(all_source_data)"
   ]
  },
  {
   "cell_type": "code",
   "execution_count": 198,
   "metadata": {},
   "outputs": [],
   "source": [
    "# 去除所有“[]”内的文本\n",
    "def remove_special_string(text):\n",
    "#     return text.replace(\"[Wechat]\", \"\")\n",
    "    text = re.sub(r'\\[[\\s\\S]*\\]', '', text)\n",
    "    text = re.sub(r'（[\\s\\S]*）', '', text)\n",
    "    text = re.sub(r'\\<[\\s\\S]*\\>', '', text)\n",
    "    text = re.sub(r'[0-9]*', '', text)\n",
    "    return text\n",
    "def remove_stopwords(text, stopwords):\n",
    "    text_cutted = jieba.cut(text, cut_all=False)\n",
    "    text_removed = []\n",
    "    for word in text_cutted:\n",
    "        if word in stopwords or word.strip()==\"\":\n",
    "            continue\n",
    "        text_removed.append(word)\n",
    "    return text_removed"
   ]
  },
  {
   "cell_type": "code",
   "execution_count": 199,
   "metadata": {},
   "outputs": [],
   "source": [
    "all_question['Description'] = all_question.Description.apply(lambda x: remove_special_string(x))\n",
    "# all_question['Description'] = all_question.Description.apply(lambda x: remove_stopwords(x, stopwords))"
   ]
  },
  {
   "cell_type": "code",
   "execution_count": 200,
   "metadata": {},
   "outputs": [
    {
     "data": {
      "text/html": [
       "<div>\n",
       "<style scoped>\n",
       "    .dataframe tbody tr th:only-of-type {\n",
       "        vertical-align: middle;\n",
       "    }\n",
       "\n",
       "    .dataframe tbody tr th {\n",
       "        vertical-align: top;\n",
       "    }\n",
       "\n",
       "    .dataframe thead th {\n",
       "        text-align: right;\n",
       "    }\n",
       "</style>\n",
       "<table border=\"1\" class=\"dataframe\">\n",
       "  <thead>\n",
       "    <tr style=\"text-align: right;\">\n",
       "      <th></th>\n",
       "      <th>Case Number</th>\n",
       "      <th>Contact Type</th>\n",
       "      <th>Contact Channel</th>\n",
       "      <th>Response Channel</th>\n",
       "      <th>Enquiry Classification</th>\n",
       "      <th>Subject</th>\n",
       "      <th>Description</th>\n",
       "      <th>Product</th>\n",
       "      <th>Response</th>\n",
       "      <th>Unnamed: 9</th>\n",
       "    </tr>\n",
       "  </thead>\n",
       "  <tbody>\n",
       "    <tr>\n",
       "      <th>0</th>\n",
       "      <td>1420656</td>\n",
       "      <td>Nurse</td>\n",
       "      <td>Affiliate MI mailbox</td>\n",
       "      <td>Phone</td>\n",
       "      <td>Stability/Storage/Reconstitution</td>\n",
       "      <td>beyond temperature</td>\n",
       "      <td>赫赛汀  配了之后结冰了， 能否继续使用。</td>\n",
       "      <td>Herceptin</td>\n",
       "      <td>根据说明书信息，赫赛汀需要存放于2-8度的温度中，超温保存对于药品活性会产生影响，不建议使用。</td>\n",
       "      <td>NaN</td>\n",
       "    </tr>\n",
       "    <tr>\n",
       "      <th>1</th>\n",
       "      <td>1423956</td>\n",
       "      <td>Internal</td>\n",
       "      <td>Phone</td>\n",
       "      <td>Email</td>\n",
       "      <td>Stability/Storage/Reconstitution</td>\n",
       "      <td>beyond temperature-herceptin</td>\n",
       "      <td>赫赛汀粉末形状如何？患者保存的赫赛汀的稀释液出现结冰情况，是否能否使用</td>\n",
       "      <td>Herceptin</td>\n",
       "      <td>[#Responded via email: 罗氏医学信息: [01423956]#]</td>\n",
       "      <td>NaN</td>\n",
       "    </tr>\n",
       "    <tr>\n",
       "      <th>3</th>\n",
       "      <td>1434184</td>\n",
       "      <td>Physician</td>\n",
       "      <td>Internal Webform</td>\n",
       "      <td>Email</td>\n",
       "      <td>Safety</td>\n",
       "      <td>AE-Herceptin&amp;Thromboembolism</td>\n",
       "      <td>请帮忙查一些赫赛汀与血栓栓塞方面的数据和文献</td>\n",
       "      <td>Herceptin</td>\n",
       "      <td>[#Responded via email: 罗氏医学信息: [01434184]#]</td>\n",
       "      <td>NaN</td>\n",
       "    </tr>\n",
       "    <tr>\n",
       "      <th>5</th>\n",
       "      <td>1438071</td>\n",
       "      <td>Internal</td>\n",
       "      <td>Phone</td>\n",
       "      <td>Email;Phone</td>\n",
       "      <td>Product Quality</td>\n",
       "      <td>quality-herceptin</td>\n",
       "      <td>常规配置和保存的赫赛汀复溶后的溶液保存在-度的情况下，现出现浑浊情况，能否使用</td>\n",
       "      <td>Herceptin</td>\n",
       "      <td>根据Herceptin说明书信息，溶解后为无色至淡黄色，澄清至微乳光溶液。该case记录PC上报</td>\n",
       "      <td>NaN</td>\n",
       "    </tr>\n",
       "    <tr>\n",
       "      <th>6</th>\n",
       "      <td>1439604</td>\n",
       "      <td>Internal</td>\n",
       "      <td>In person</td>\n",
       "      <td>Email</td>\n",
       "      <td>Publication/Educational Material Request</td>\n",
       "      <td>PI-herceptin</td>\n",
       "      <td>赫赛汀最新说明书</td>\n",
       "      <td>Herceptin</td>\n",
       "      <td>[#Responded via email: 罗氏医学信息: [01439604]#]</td>\n",
       "      <td>NaN</td>\n",
       "    </tr>\n",
       "  </tbody>\n",
       "</table>\n",
       "</div>"
      ],
      "text/plain": [
       "   Case Number Contact Type       Contact Channel Response Channel  \\\n",
       "0      1420656        Nurse  Affiliate MI mailbox            Phone   \n",
       "1      1423956     Internal                 Phone            Email   \n",
       "3      1434184    Physician      Internal Webform            Email   \n",
       "5      1438071     Internal                 Phone      Email;Phone   \n",
       "6      1439604     Internal             In person            Email   \n",
       "\n",
       "                     Enquiry Classification                       Subject  \\\n",
       "0          Stability/Storage/Reconstitution            beyond temperature   \n",
       "1          Stability/Storage/Reconstitution  beyond temperature-herceptin   \n",
       "3                                    Safety  AE-Herceptin&Thromboembolism   \n",
       "5                           Product Quality             quality-herceptin   \n",
       "6  Publication/Educational Material Request                  PI-herceptin   \n",
       "\n",
       "                               Description    Product  \\\n",
       "0                    赫赛汀  配了之后结冰了， 能否继续使用。  Herceptin   \n",
       "1      赫赛汀粉末形状如何？患者保存的赫赛汀的稀释液出现结冰情况，是否能否使用  Herceptin   \n",
       "3                   请帮忙查一些赫赛汀与血栓栓塞方面的数据和文献  Herceptin   \n",
       "5  常规配置和保存的赫赛汀复溶后的溶液保存在-度的情况下，现出现浑浊情况，能否使用  Herceptin   \n",
       "6                                 赫赛汀最新说明书  Herceptin   \n",
       "\n",
       "                                           Response  Unnamed: 9  \n",
       "0   根据说明书信息，赫赛汀需要存放于2-8度的温度中，超温保存对于药品活性会产生影响，不建议使用。         NaN  \n",
       "1       [#Responded via email: 罗氏医学信息: [01423956]#]         NaN  \n",
       "3       [#Responded via email: 罗氏医学信息: [01434184]#]         NaN  \n",
       "5  根据Herceptin说明书信息，溶解后为无色至淡黄色，澄清至微乳光溶液。该case记录PC上报         NaN  \n",
       "6       [#Responded via email: 罗氏医学信息: [01439604]#]         NaN  "
      ]
     },
     "execution_count": 200,
     "metadata": {},
     "output_type": "execute_result"
    }
   ],
   "source": [
    "# all_question.to_excel('./data/after_re_sub.xlsx')\n",
    "all_question.head()"
   ]
  },
  {
   "cell_type": "code",
   "execution_count": 95,
   "metadata": {},
   "outputs": [],
   "source": [
    "jieba.load_userdict('./jieba_dict.txt')"
   ]
  },
  {
   "cell_type": "code",
   "execution_count": 201,
   "metadata": {},
   "outputs": [
    {
     "name": "stdout",
     "output_type": "stream",
     "text": [
      "['赫赛汀', '（', '批号', '1', '：', 'N3825B03B3049', ',', '批号', '2', '：', 'N3826B02B3050', '）', '配', '了', '之后', '结冰', '了', '，', '能否', '继续', '使用', '。']\n"
     ]
    }
   ],
   "source": [
    "demo_wordcut = jieba.cut('赫赛汀 （批号1： N3825B03B3049, 批号2： N3826B02B3050） 配了之后结冰了， 能否继续使用。', cut_all=False)\n",
    "print(' '.join(demo_wordcut).split())"
   ]
  },
  {
   "cell_type": "code",
   "execution_count": 202,
   "metadata": {},
   "outputs": [
    {
     "data": {
      "text/plain": [
       "201"
      ]
     },
     "execution_count": 202,
     "metadata": {},
     "output_type": "execute_result"
    }
   ],
   "source": [
    "len(all_question)"
   ]
  },
  {
   "cell_type": "code",
   "execution_count": 203,
   "metadata": {},
   "outputs": [
    {
     "data": {
      "text/plain": [
       "201"
      ]
     },
     "execution_count": 203,
     "metadata": {},
     "output_type": "execute_result"
    }
   ],
   "source": [
    "all_text_data = []\n",
    "for idx,row in all_question.iterrows():\n",
    "    all_text_data.append(row['Description'])\n",
    "len(all_text_data)"
   ]
  },
  {
   "cell_type": "code",
   "execution_count": 99,
   "metadata": {},
   "outputs": [
    {
     "data": {
      "text/plain": [
       "757"
      ]
     },
     "execution_count": 99,
     "metadata": {},
     "output_type": "execute_result"
    }
   ],
   "source": [
    "len(all_text_data)"
   ]
  },
  {
   "cell_type": "code",
   "execution_count": 205,
   "metadata": {},
   "outputs": [
    {
     "data": {
      "text/plain": [
       "'赫赛汀 批号1\\xa0N3825B03B3049 批号2 N3826B02B3050 配了之后结冰了 能否继续使用'"
      ]
     },
     "execution_count": 205,
     "metadata": {},
     "output_type": "execute_result"
    }
   ],
   "source": [
    "chinese_punc = string.punctuation + \"\"\"！？｡。＂＃＄％＆＇（）＊＋，－／：；＜＝＞＠［＼］＾＿｀｛｜｝～｟｠｢｣､、〃》「」『』【】〔〕〖〗〘〙〚〛〜〝〞〟〰〾〿–—‘’‛“”„‟…‧﹏.\"\"\"\n",
    "text = \"赫赛汀 （批号1： N3825B03B3049, 批号2： N3826B02B3050） 配了之后结冰了， 能否继续使用。\"\n",
    "text.translate(str.maketrans('', '', chinese_punc))"
   ]
  },
  {
   "cell_type": "code",
   "execution_count": 206,
   "metadata": {},
   "outputs": [],
   "source": [
    "chinese_punc = string.punctuation + \"\"\"！？｡。＂＃＄％＆＇（）＊＋，－／：；＜＝＞＠［＼］＾＿｀｛｜｝～｟｠｢｣､、〃》「」『』【】〔〕〖〗〘〙〚〛〜〝〞〟〰〾〿–—‘’‛“”„‟…‧﹏.\"\"\"\n",
    "def jieba_cut(text):\n",
    "    text = text.translate(str.maketrans('', '', chinese_punc))\n",
    "    text = remove_stopwords(text, stopwords)\n",
    "    return text"
   ]
  },
  {
   "cell_type": "code",
   "execution_count": 207,
   "metadata": {},
   "outputs": [
    {
     "data": {
      "text/plain": [
       "<201x1212 sparse matrix of type '<class 'numpy.float64'>'\n",
       "\twith 2407 stored elements in Compressed Sparse Row format>"
      ]
     },
     "execution_count": 207,
     "metadata": {},
     "output_type": "execute_result"
    }
   ],
   "source": [
    "# term-tfidf matrix\n",
    "tfidf_vectorizer = TfidfVectorizer(input='content', tokenizer=jieba_cut, use_idf=True)\n",
    "tfidf_matrix = tfidf_vectorizer.fit_transform(all_text_data)\n",
    "tfidf_matrix"
   ]
  },
  {
   "cell_type": "code",
   "execution_count": 107,
   "metadata": {},
   "outputs": [
    {
     "data": {
      "text/plain": [
       "<757x1998 sparse matrix of type '<class 'numpy.float64'>'\n",
       "\twith 9954 stored elements in Compressed Sparse Row format>"
      ]
     },
     "execution_count": 107,
     "metadata": {},
     "output_type": "execute_result"
    }
   ],
   "source": [
    "tfidf_matrix"
   ]
  },
  {
   "cell_type": "code",
   "execution_count": 208,
   "metadata": {},
   "outputs": [
    {
     "data": {
      "text/plain": [
       "(201, 100)"
      ]
     },
     "execution_count": 208,
     "metadata": {},
     "output_type": "execute_result"
    }
   ],
   "source": [
    "'''Latent Semantic Analysis'''\n",
    "lsa = TruncatedSVD(n_components=100, n_iter=10)\n",
    "idf_lsa_vector = lsa.fit_transform(tfidf_matrix)\n",
    "idf_lsa_vector.shape"
   ]
  },
  {
   "cell_type": "code",
   "execution_count": 109,
   "metadata": {},
   "outputs": [
    {
     "data": {
      "text/plain": [
       "(757, 100)"
      ]
     },
     "execution_count": 109,
     "metadata": {},
     "output_type": "execute_result"
    }
   ],
   "source": [
    "type(idf_lsa_vector)\n",
    "idf_lsa_vector.shape"
   ]
  },
  {
   "cell_type": "code",
   "execution_count": 229,
   "metadata": {},
   "outputs": [],
   "source": [
    "n_clusters=50\n",
    "max_iter = 300\n",
    "kmeans_model = KMeans(n_clusters=n_clusters, max_iter=max_iter)\n",
    "# kmeans_model.fit(tfidf_matrix)\n",
    "kmeans_model.fit(idf_lsa_vector)\n",
    "# kmeans_model.fit(doc2vec_matrix)\n",
    "kmeans_clustering = collections.defaultdict(list)\n",
    "for idx, label in enumerate(kmeans_model.labels_):\n",
    "    kmeans_clustering[label].append(idx)"
   ]
  },
  {
   "cell_type": "code",
   "execution_count": 230,
   "metadata": {},
   "outputs": [],
   "source": [
    "f = open('./patient_filtered_kmeans_'+str(n_clusters)+'class_'+str(max_iter)+'iter_demo'+'.txt', 'w')\n",
    "for key, value in kmeans_clustering.items():\n",
    "    for idx in value:\n",
    "#         print(all_source_data[idx])\n",
    "        f.write(all_source_data[idx] + '\\n')\n",
    "#         f.write(all_text_data[idx] + '\\n')\n",
    "    f.write('\\n-------------------------------------------------------------------------------------------------------------\\n\\n')\n",
    "f.close()\n",
    "\n",
    "# for idx in kmeans_clustering[30]:\n",
    "#     print(all_source_data[idx])"
   ]
  },
  {
   "cell_type": "code",
   "execution_count": 339,
   "metadata": {},
   "outputs": [],
   "source": [
    "dbscan_model = DBSCAN(eps=0.01, min_samples=10)\n",
    "dbscan_model.fit(tfidf_matrix)\n",
    "dbscan_clustering = collections.defaultdict(list)\n",
    "for idx, label in enumerate(dbscan_model.labels_):\n",
    "    dbscan_clustering[label].append(idx)"
   ]
  },
  {
   "cell_type": "code",
   "execution_count": 342,
   "metadata": {},
   "outputs": [
    {
     "name": "stdout",
     "output_type": "stream",
     "text": [
      "3\n"
     ]
    }
   ],
   "source": [
    "print(len(set(dbscan_clustering)))\n",
    "for idx in dbscan_clustering[2]:\n",
    "    print(all_text_data[idx])"
   ]
  },
  {
   "cell_type": "code",
   "execution_count": null,
   "metadata": {},
   "outputs": [],
   "source": []
  }
 ],
 "metadata": {
  "kernelspec": {
   "display_name": "Python 3",
   "language": "python",
   "name": "python3"
  },
  "language_info": {
   "codemirror_mode": {
    "name": "ipython",
    "version": 3
   },
   "file_extension": ".py",
   "mimetype": "text/x-python",
   "name": "python",
   "nbconvert_exporter": "python",
   "pygments_lexer": "ipython3",
   "version": "3.7.1"
  }
 },
 "nbformat": 4,
 "nbformat_minor": 2
}
