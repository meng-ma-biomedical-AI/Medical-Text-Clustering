{
 "cells": [
  {
   "cell_type": "code",
   "execution_count": 2,
   "metadata": {},
   "outputs": [],
   "source": [
    "import re\n",
    "import codecs\n",
    "import jieba\n",
    "import pickle\n",
    "import pandas as pd\n",
    "from elasticsearch import Elasticsearch"
   ]
  },
  {
   "cell_type": "code",
   "execution_count": 3,
   "metadata": {},
   "outputs": [],
   "source": [
    "es = Elasticsearch([{'host':'localhost','port':9200}])"
   ]
  },
  {
   "cell_type": "code",
   "execution_count": 6,
   "metadata": {},
   "outputs": [
    {
     "name": "stdout",
     "output_type": "stream",
     "text": [
      "all_question:  1407\n"
     ]
    },
    {
     "data": {
      "text/html": [
       "<div>\n",
       "<style scoped>\n",
       "    .dataframe tbody tr th:only-of-type {\n",
       "        vertical-align: middle;\n",
       "    }\n",
       "\n",
       "    .dataframe tbody tr th {\n",
       "        vertical-align: top;\n",
       "    }\n",
       "\n",
       "    .dataframe thead th {\n",
       "        text-align: right;\n",
       "    }\n",
       "</style>\n",
       "<table border=\"1\" class=\"dataframe\">\n",
       "  <thead>\n",
       "    <tr style=\"text-align: right;\">\n",
       "      <th></th>\n",
       "      <th>Case Number</th>\n",
       "      <th>Description</th>\n",
       "    </tr>\n",
       "  </thead>\n",
       "  <tbody>\n",
       "    <tr>\n",
       "      <th>0</th>\n",
       "      <td>1420656.0</td>\n",
       "      <td>赫赛汀 （批号1： N3825B03B3049, 批号2： N3826B02B3050） 配...</td>\n",
       "    </tr>\n",
       "    <tr>\n",
       "      <th>1</th>\n",
       "      <td>1423956.0</td>\n",
       "      <td>赫赛汀粉末形状如何？患者保存的赫赛汀的稀释液出现结冰情况，是否能否使用（无产品批号信息）</td>\n",
       "    </tr>\n",
       "    <tr>\n",
       "      <th>2</th>\n",
       "      <td>1434184.0</td>\n",
       "      <td>[Wechat] 请帮忙查一些赫赛汀与血栓栓塞方面的数据和文献（确认无AE）</td>\n",
       "    </tr>\n",
       "    <tr>\n",
       "      <th>3</th>\n",
       "      <td>1436011.0</td>\n",
       "      <td>拿到的赫赛汀呈现块状是否正常</td>\n",
       "    </tr>\n",
       "    <tr>\n",
       "      <th>4</th>\n",
       "      <td>1438071.0</td>\n",
       "      <td>常规配置和保存的赫赛汀复溶后的溶液保存在2-8度的情况下，现出现浑浊情况，能否使用</td>\n",
       "    </tr>\n",
       "  </tbody>\n",
       "</table>\n",
       "</div>"
      ],
      "text/plain": [
       "   Case Number                                        Description\n",
       "0    1420656.0  赫赛汀 （批号1： N3825B03B3049, 批号2： N3826B02B3050） 配...\n",
       "1    1423956.0       赫赛汀粉末形状如何？患者保存的赫赛汀的稀释液出现结冰情况，是否能否使用（无产品批号信息）\n",
       "2    1434184.0             [Wechat] 请帮忙查一些赫赛汀与血栓栓塞方面的数据和文献（确认无AE）\n",
       "3    1436011.0                                     拿到的赫赛汀呈现块状是否正常\n",
       "4    1438071.0          常规配置和保存的赫赛汀复溶后的溶液保存在2-8度的情况下，现出现浑浊情况，能否使用"
      ]
     },
     "execution_count": 6,
     "metadata": {},
     "output_type": "execute_result"
    }
   ],
   "source": [
    "# all_question = pd.read_csv('./data/description.csv')\n",
    "Herceptin_question = pd.read_excel('./data/Herceptin.xlsx')\n",
    "# all_question = pd.read_excel('./data/Herceptin_funding_filtered.xlsx')\n",
    "# all_question = pd.read_excel('./data/Herceptin_patient_filtered.xlsx')\n",
    "Kadcyla_question = pd.read_excel('./data/Kadcyla.xlsx')\n",
    "Perjeta_1_question = pd.read_excel('./data/Perjeta_1.xlsx')\n",
    "Perjeta_2_question = pd.read_excel('./data/Perjeta_2.xlsx')\n",
    "Tecentriq_question = pd.read_excel('./data/Tecentriq.xlsx')\n",
    "Xeloda_question = pd.read_excel('./data/Xeloda.xlsx')\n",
    "\n",
    "all_question = pd.concat([Herceptin_question, Kadcyla_question, Perjeta_1_question, Perjeta_2_question, Tecentriq_question, Xeloda_question])\n",
    "print('all_question: ', len(all_question))\n",
    "all_question.head(5)"
   ]
  },
  {
   "cell_type": "code",
   "execution_count": 7,
   "metadata": {},
   "outputs": [],
   "source": [
    "all_question.dropna(axis=0, inplace=True, subset=['Description'])"
   ]
  },
  {
   "cell_type": "code",
   "execution_count": 8,
   "metadata": {},
   "outputs": [
    {
     "data": {
      "text/plain": [
       "Case Number    0\n",
       "Description    0\n",
       "dtype: int64"
      ]
     },
     "execution_count": 8,
     "metadata": {},
     "output_type": "execute_result"
    }
   ],
   "source": [
    "all_question.isna().sum()"
   ]
  },
  {
   "cell_type": "code",
   "execution_count": 11,
   "metadata": {},
   "outputs": [],
   "source": [
    "jieba.load_userdict('./dict data/chinese_word_dict.txt')\n",
    "chinese_word_dict = pickle.load(open('./dict data/chinese_word_dict.pickle', 'rb'))\n",
    "stopwords = [line.strip() for line in codecs.open('./stopwords-zh.txt', 'r', encoding='utf8').readlines()]"
   ]
  },
  {
   "cell_type": "code",
   "execution_count": 12,
   "metadata": {},
   "outputs": [],
   "source": [
    "def keyword_extract(text, word_dict):\n",
    "#     text = list(jieba.cut(text, cut_all=False))\n",
    "    text = list(jieba.cut_for_search(text))\n",
    "    union_text = list(set(text).intersection(set(word_dict)))\n",
    "    return \" \".join(union_text)"
   ]
  },
  {
   "cell_type": "code",
   "execution_count": 13,
   "metadata": {},
   "outputs": [],
   "source": [
    "all_question['KeyWords'] = all_question.Description.apply(lambda x: keyword_extract(x, chinese_word_dict))"
   ]
  },
  {
   "cell_type": "code",
   "execution_count": 14,
   "metadata": {},
   "outputs": [],
   "source": [
    "# 去除所有“[]”内的文本\n",
    "def remove_special_string(text):\n",
    "    text = re.sub(r'\\[[^]]*\\]', '', text)\n",
    "    text = re.sub(r'\\([^)]*\\)', '', text)\n",
    "    text = re.sub(r'（[^）]*\\）', '', text)\n",
    "    text = re.sub(r'\\<[^>]*\\>', '', text)\n",
    "    text = re.sub(r'[0-9]*', '', text)\n",
    "    return text\n",
    "def remove_stopwords(text, stopwords):\n",
    "    text_cutted = jieba.cut(text, cut_all=True)\n",
    "    text_removed = []\n",
    "    for word in text_cutted:\n",
    "        if word in stopwords or word.strip()==\"\":\n",
    "            continue\n",
    "        text_removed.append(word)\n",
    "    return \"  \".join(text_removed)"
   ]
  },
  {
   "cell_type": "code",
   "execution_count": 15,
   "metadata": {},
   "outputs": [
    {
     "data": {
      "text/html": [
       "<div>\n",
       "<style scoped>\n",
       "    .dataframe tbody tr th:only-of-type {\n",
       "        vertical-align: middle;\n",
       "    }\n",
       "\n",
       "    .dataframe tbody tr th {\n",
       "        vertical-align: top;\n",
       "    }\n",
       "\n",
       "    .dataframe thead th {\n",
       "        text-align: right;\n",
       "    }\n",
       "</style>\n",
       "<table border=\"1\" class=\"dataframe\">\n",
       "  <thead>\n",
       "    <tr style=\"text-align: right;\">\n",
       "      <th></th>\n",
       "      <th>Case Number</th>\n",
       "      <th>Description</th>\n",
       "      <th>KeyWords</th>\n",
       "      <th>Processed</th>\n",
       "    </tr>\n",
       "  </thead>\n",
       "  <tbody>\n",
       "    <tr>\n",
       "      <th>0</th>\n",
       "      <td>1420656.0</td>\n",
       "      <td>赫赛汀 （批号1： N3825B03B3049, 批号2： N3826B02B3050） 配...</td>\n",
       "      <td>赫赛汀 使用</td>\n",
       "      <td>配  之后  结冰  继续  使用</td>\n",
       "    </tr>\n",
       "    <tr>\n",
       "      <th>1</th>\n",
       "      <td>1423956.0</td>\n",
       "      <td>赫赛汀粉末形状如何？患者保存的赫赛汀的稀释液出现结冰情况，是否能否使用（无产品批号信息）</td>\n",
       "      <td>患者 无 赫赛汀 使用</td>\n",
       "      <td>粉末  形状  保存  稀释  稀释液  出现  结冰  冰情  情况  是否  使用</td>\n",
       "    </tr>\n",
       "    <tr>\n",
       "      <th>2</th>\n",
       "      <td>1434184.0</td>\n",
       "      <td>[Wechat] 请帮忙查一些赫赛汀与血栓栓塞方面的数据和文献（确认无AE）</td>\n",
       "      <td>无 血栓 文献 血栓栓塞 查 栓塞 赫赛汀</td>\n",
       "      <td>帮忙  查  血栓  血栓栓塞  栓塞  方面  数据  和文  文献</td>\n",
       "    </tr>\n",
       "    <tr>\n",
       "      <th>3</th>\n",
       "      <td>1436011.0</td>\n",
       "      <td>拿到的赫赛汀呈现块状是否正常</td>\n",
       "      <td>赫赛汀 正常</td>\n",
       "      <td>拿到  呈现  块状  是否  正常</td>\n",
       "    </tr>\n",
       "    <tr>\n",
       "      <th>4</th>\n",
       "      <td>1438071.0</td>\n",
       "      <td>常规配置和保存的赫赛汀复溶后的溶液保存在2-8度的情况下，现出现浑浊情况，能否使用</td>\n",
       "      <td>使用 现 溶液 配置 赫赛汀 下</td>\n",
       "      <td>常规  配置  保存  复  溶  溶液  保存  存在  度  情况  现出  出现  浑...</td>\n",
       "    </tr>\n",
       "  </tbody>\n",
       "</table>\n",
       "</div>"
      ],
      "text/plain": [
       "   Case Number                                        Description  \\\n",
       "0    1420656.0  赫赛汀 （批号1： N3825B03B3049, 批号2： N3826B02B3050） 配...   \n",
       "1    1423956.0       赫赛汀粉末形状如何？患者保存的赫赛汀的稀释液出现结冰情况，是否能否使用（无产品批号信息）   \n",
       "2    1434184.0             [Wechat] 请帮忙查一些赫赛汀与血栓栓塞方面的数据和文献（确认无AE）   \n",
       "3    1436011.0                                     拿到的赫赛汀呈现块状是否正常   \n",
       "4    1438071.0          常规配置和保存的赫赛汀复溶后的溶液保存在2-8度的情况下，现出现浑浊情况，能否使用   \n",
       "\n",
       "                KeyWords                                          Processed  \n",
       "0                 赫赛汀 使用                                  配  之后  结冰  继续  使用  \n",
       "1            患者 无 赫赛汀 使用        粉末  形状  保存  稀释  稀释液  出现  结冰  冰情  情况  是否  使用  \n",
       "2  无 血栓 文献 血栓栓塞 查 栓塞 赫赛汀                帮忙  查  血栓  血栓栓塞  栓塞  方面  数据  和文  文献  \n",
       "3                 赫赛汀 正常                                 拿到  呈现  块状  是否  正常  \n",
       "4       使用 现 溶液 配置 赫赛汀 下  常规  配置  保存  复  溶  溶液  保存  存在  度  情况  现出  出现  浑...  "
      ]
     },
     "execution_count": 15,
     "metadata": {},
     "output_type": "execute_result"
    }
   ],
   "source": [
    "all_question['Processed'] = all_question.Description.apply(lambda x: remove_special_string(x))\n",
    "all_question['Processed'] = all_question.Processed.apply(lambda x: remove_stopwords(x, stopwords))\n",
    "all_question.head()"
   ]
  },
  {
   "cell_type": "code",
   "execution_count": 16,
   "metadata": {},
   "outputs": [
    {
     "name": "stdout",
     "output_type": "stream",
     "text": [
      "1093\n",
      "{'text': '赫赛汀 （批号1：\\xa0N3825B03B3049, 批号2： N3826B02B3050） 配了之后结冰了， 能否继续使用。', 'processed_text': '配  之后  结冰  继续  使用'}\n"
     ]
    }
   ],
   "source": [
    "doc_list = []\n",
    "for idx,row in all_question.iterrows():\n",
    "    doc = {\"text\": row['Description'], \"processed_text\": row['Processed']}\n",
    "    doc_list.append(doc)\n",
    "print(len(doc_list))\n",
    "print(doc_list[0])"
   ]
  },
  {
   "cell_type": "code",
   "execution_count": 17,
   "metadata": {},
   "outputs": [],
   "source": [
    "for idx in range(len(doc_list)):\n",
    "    es.index(index='index', doc_type='type', id=idx, body=doc_list[idx])"
   ]
  },
  {
   "cell_type": "code",
   "execution_count": 35,
   "metadata": {},
   "outputs": [
    {
     "data": {
      "text/plain": [
       "{'took': 11,\n",
       " 'timed_out': False,\n",
       " '_shards': {'total': 1, 'successful': 1, 'skipped': 0, 'failed': 0},\n",
       " 'hits': {'total': {'value': 913, 'relation': 'eq'},\n",
       "  'max_score': 56.10214,\n",
       "  'hits': [{'_index': 'index',\n",
       "    '_type': 'type',\n",
       "    '_id': '510',\n",
       "    '_score': 56.10214,\n",
       "    '_source': {'text': '关于赫赛汀心脏毒性：1、临床 2、临床前',\n",
       "     'processed_text': '心脏  心脏毒性  脏毒  毒性  临床  临床  前'}},\n",
       "   {'_index': 'index',\n",
       "    '_type': 'type',\n",
       "    '_id': '620',\n",
       "    '_score': 35.769,\n",
       "    '_source': {'text': '[Wechat] 临床上赫赛汀q3W和qW用法，在心脏毒性方面，哪个频率心脏毒性小些？相关研究？',\n",
       "     'processed_text': '临床  床上  qW  qW  用法  心脏  心脏毒性  脏毒  毒性  方面  频率  心脏  心脏毒性  脏毒  毒性  相关  研究'}},\n",
       "   {'_index': 'index',\n",
       "    '_type': 'type',\n",
       "    '_id': '774',\n",
       "    '_score': 23.778368,\n",
       "    '_source': {'text': '[Wechat] 关于tdm1的临床试验',\n",
       "     'processed_text': 'tdm  临床  临床试验  试验'}},\n",
       "   {'_index': 'index',\n",
       "    '_type': 'type',\n",
       "    '_id': '1067',\n",
       "    '_score': 23.509974,\n",
       "    '_source': {'text': '[Wechat] 请帮忙查询以下临床研究的全文以供学习，谢谢！ 1、XT对比GT在晚期乳腺癌化疗中的临床研究原文；重点关注毒性的对比。至少有两个相关研究。X：希罗达，T：多西他赛/多西紫杉醇，G：吉西他滨  2、GP（吉西他滨联合紫杉醇）用于晚期乳腺癌化疗的临床研究全文。',\n",
       "     'processed_text': '帮忙  查询  以下  临床  临床研究  研究  全文  供  学习  XT  GT  晚期  乳腺  乳腺癌  乳腺癌化疗  腺癌  化疗  临床  临床研究  研究  原文  重点  关注  毒性  至少  少有  两个  相关  研究  X  希罗  希罗达  T  多西他赛  多西紫杉醇  紫杉  紫杉醇  G  吉西他滨  GP  用于  晚期  乳腺  乳腺癌  乳腺癌化疗  腺癌  化疗  临床  临床研究  研究  全文'}},\n",
       "   {'_index': 'index',\n",
       "    '_type': 'type',\n",
       "    '_id': '667',\n",
       "    '_score': 23.06129,\n",
       "    '_source': {'text': '[Wechat] 赫赛汀对于心脏毒性的相关文献以及处理方法',\n",
       "     'processed_text': '心脏  心脏毒性  脏毒  毒性  相关  关文  关文献  文献  处理  处理方法  方法'}},\n",
       "   {'_index': 'index',\n",
       "    '_type': 'type',\n",
       "    '_id': '284',\n",
       "    '_score': 23.017952,\n",
       "    '_source': {'text': '[Wechat] 赫赛汀，放疗，心脏毒性相关文献',\n",
       "     'processed_text': '放疗  心脏  心脏毒性  脏毒  毒性  性相  相关  关文  关文献  文献'}},\n",
       "   {'_index': 'index',\n",
       "    '_type': 'type',\n",
       "    '_id': '1034',\n",
       "    '_score': 21.180492,\n",
       "    '_source': {'text': '[Wechat] 关于拉帕替尼加希罗达的临床试验',\n",
       "     'processed_text': '拉帕  拉帕替尼  加  希罗  希罗达  临床  临床试验  试验'}},\n",
       "   {'_index': 'index',\n",
       "    '_type': 'type',\n",
       "    '_id': '809',\n",
       "    '_score': 20.536726,\n",
       "    '_source': {'text': '[Wechat] 你好，我要问询关于帕捷特使用的问题，目前临床有一位乳腺癌患者体重30kg，帕捷特应该怎么使用，临床老师担心，针对这种特殊患者是否需要减量，比如6周一个疗程',\n",
       "     'processed_text': '你好  问询  帕捷特  特使  使用  问题  目前  临床  一位  乳腺  乳腺癌  腺癌  体重  kg  帕捷特  应该  使用  临床  老师  担心  这种  特殊  是否  需要  减量  周一  一个  疗程'}},\n",
       "   {'_index': 'index',\n",
       "    '_type': 'type',\n",
       "    '_id': '1070',\n",
       "    '_score': 20.438519,\n",
       "    '_source': {'text': '[Wechat] 都是关于希罗达在晚期乳腺癌的研究：1.多西他赛联合希罗达对比多西他赛单药，的3期临床研究原文（中文）2.希罗达 多西他赛vs 表柔比星 多西他赛的临床研究原文（中文）3.希罗达 多西他赛 vs 吉西他滨 多西他赛的临床研究原文（中文）谢谢您',\n",
       "     'processed_text': '希罗  希罗达  晚期  乳腺  乳腺癌  腺癌  研究  多西他赛  联合  希罗  希罗达  多西他赛  多西他赛单药  期  临床  临床研究  研究  原文  希罗  希罗达  多西他赛  vs  表柔比星  多西他赛  临床  临床研究  研究  原文  希罗  希罗达  多西他赛  vs  吉西他滨  多西他赛  临床  临床研究  研究  原文  谢谢您'}},\n",
       "   {'_index': 'index',\n",
       "    '_type': 'type',\n",
       "    '_id': '408',\n",
       "    '_score': 20.144873,\n",
       "    '_source': {'text': '赫赛汀在心脏毒性方面的研究数据',\n",
       "     'processed_text': '心脏  心脏毒性  脏毒  毒性  方面  研究  数据'}}]}}"
      ]
     },
     "execution_count": 35,
     "metadata": {},
     "output_type": "execute_result"
    }
   ],
   "source": [
    "\n",
    "query = \"关于赫赛汀心脏毒性：1、临床 2、临床前\"\n",
    "\n",
    "results = es.search(index='index', body={'query': {'match':{\"text\": query}}}, size=10)\n",
    "hits = results['hits']['hits']\n",
    "results\n",
    "# for idx, res in enumerate(hits):\n",
    "#     print(str(idx+1) + \":  \" + res['_source']['text'])"
   ]
  },
  {
   "cell_type": "code",
   "execution_count": null,
   "metadata": {},
   "outputs": [],
   "source": []
  },
  {
   "cell_type": "code",
   "execution_count": null,
   "metadata": {},
   "outputs": [],
   "source": []
  },
  {
   "cell_type": "code",
   "execution_count": null,
   "metadata": {},
   "outputs": [],
   "source": []
  },
  {
   "cell_type": "code",
   "execution_count": null,
   "metadata": {},
   "outputs": [],
   "source": []
  },
  {
   "cell_type": "code",
   "execution_count": null,
   "metadata": {},
   "outputs": [],
   "source": []
  },
  {
   "cell_type": "code",
   "execution_count": null,
   "metadata": {},
   "outputs": [],
   "source": []
  },
  {
   "cell_type": "code",
   "execution_count": null,
   "metadata": {},
   "outputs": [],
   "source": []
  },
  {
   "cell_type": "code",
   "execution_count": null,
   "metadata": {},
   "outputs": [],
   "source": []
  },
  {
   "cell_type": "code",
   "execution_count": null,
   "metadata": {},
   "outputs": [],
   "source": []
  },
  {
   "cell_type": "code",
   "execution_count": null,
   "metadata": {},
   "outputs": [],
   "source": []
  },
  {
   "cell_type": "code",
   "execution_count": null,
   "metadata": {},
   "outputs": [],
   "source": []
  },
  {
   "cell_type": "code",
   "execution_count": null,
   "metadata": {},
   "outputs": [],
   "source": []
  },
  {
   "cell_type": "code",
   "execution_count": null,
   "metadata": {},
   "outputs": [],
   "source": []
  },
  {
   "cell_type": "code",
   "execution_count": null,
   "metadata": {},
   "outputs": [],
   "source": []
  },
  {
   "cell_type": "code",
   "execution_count": null,
   "metadata": {},
   "outputs": [],
   "source": []
  }
 ],
 "metadata": {
  "kernelspec": {
   "display_name": "Python 3",
   "language": "python",
   "name": "python3"
  },
  "language_info": {
   "codemirror_mode": {
    "name": "ipython",
    "version": 3
   },
   "file_extension": ".py",
   "mimetype": "text/x-python",
   "name": "python",
   "nbconvert_exporter": "python",
   "pygments_lexer": "ipython3",
   "version": "3.7.1"
  }
 },
 "nbformat": 4,
 "nbformat_minor": 2
}
